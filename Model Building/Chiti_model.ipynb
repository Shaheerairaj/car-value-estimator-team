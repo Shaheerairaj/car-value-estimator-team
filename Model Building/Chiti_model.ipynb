{
  "cells": [
    {
      "id": "38653446",
      "cell_type": "markdown",
      "source": [
        "## Import dataset\n",
        "\n",
        "\n"
      ],
      "metadata": {
        "id": "38653446"
      }
    },
    {
      "execution_count": 2,
      "outputs": [
        {
          "output_type": "stream",
          "name": "stdout",
          "text": [
            "   id                              ad_id  \\\n",
            "0   1  2b245180a2df401d91d205226a6f5889/   \n",
            "1   2  c688c6c29231491796a683f7a4126006/   \n",
            "2   3  20e7537262574ffaa63989e950542f32/   \n",
            "3   4  d4d0bd4fb6cb40a6b2f8edfd577dbc7f/   \n",
            "4   5  0e70caa1d9f446a79ea846ecc8add920/   \n",
            "\n",
            "                                                link  num_of_pic    price  \\\n",
            "0  https://uae.dubizzle.com/motors/used-cars/ford...        17.0  159,000   \n",
            "1  https://uae.dubizzle.com/motors/used-cars/ford...        18.0  276,000   \n",
            "2  https://uae.dubizzle.com/motors/used-cars/ford...        19.0   62,500   \n",
            "3  https://uae.dubizzle.com/motors/used-cars/ford...        19.0  169,000   \n",
            "4  https://uae.dubizzle.com/motors/used-cars/ford...        19.0  209,000   \n",
            "\n",
            "  brand            model                                              title  \\\n",
            "0  Ford  F-Series Pickup  SVT Raptor 2018 F150 under service contract Fe...   \n",
            "1  Ford          Mustang  Ford Mustang Shelby, original, American import...   \n",
            "2  Ford             Edge  Black Package â€¢ 1,295x48PM â€¢ 2016 Ford Edg...   \n",
            "3  Ford          Mustang  FORD WARRANTY â€¢ 2,660x60PM â€¢ 2020 Ford Mus...   \n",
            "4  Ford          Mustang  Ford Warranty â€¢ 3,290x60PM â€¢ 2023 Ford Mus...   \n",
            "\n",
            "     year          km steering_side    region_specs  \\\n",
            "0  2018.0  107,000 km     Left Hand       GCC Specs   \n",
            "1  2021.0    2,000 km     Left Hand  American Specs   \n",
            "2  2016.0   79,000 km     Left Hand       GCC Specs   \n",
            "3  2020.0   55,000 km     Left Hand       GCC Specs   \n",
            "4  2023.0   29,000 km     Left Hand       GCC Specs   \n",
            "\n",
            "                                            location tags  \n",
            "0                           Sheikh Zayed Road, Dubai  NaN  \n",
            "1  Saif Zone (Sharjah International Airport Free ...  NaN  \n",
            "2                                     Al Quoz, Dubai  NaN  \n",
            "3                                     Al Quoz, Dubai  NaN  \n",
            "4                                     Al Quoz, Dubai  NaN  \n"
          ]
        }
      ],
      "metadata": {
        "id": "256205be",
        "outputId": "db79eb1b-6ccc-4b5b-aa3c-9f163f61e9c4",
        "colab": {
          "base_uri": "https://localhost:8080/"
        }
      },
      "cell_type": "code",
      "id": "256205be",
      "source": [
        "import pandas as pd\n",
        "\n",
        "df = pd.read_csv('ads_all.csv')\n",
        "print(df.head())\n"
      ]
    },
    {
      "source": [
        "## Data exploration\n",
        "\n",
        "\n"
      ],
      "id": "e7cbf5a0",
      "metadata": {
        "id": "e7cbf5a0"
      },
      "cell_type": "markdown"
    },
    {
      "metadata": {
        "id": "1b4b3224",
        "outputId": "3eaa4a40-a77f-4055-a66f-e875477adceb",
        "colab": {
          "base_uri": "https://localhost:8080/",
          "height": 1000
        }
      },
      "cell_type": "code",
      "execution_count": 3,
      "outputs": [
        {
          "output_type": "stream",
          "name": "stdout",
          "text": [
            "(21122, 14)\n",
            "<class 'pandas.core.frame.DataFrame'>\n",
            "RangeIndex: 21122 entries, 0 to 21121\n",
            "Data columns (total 14 columns):\n",
            " #   Column         Non-Null Count  Dtype  \n",
            "---  ------         --------------  -----  \n",
            " 0   id             21122 non-null  int64  \n",
            " 1   ad_id          21122 non-null  object \n",
            " 2   link           21122 non-null  object \n",
            " 3   num_of_pic     20872 non-null  float64\n",
            " 4   price          20876 non-null  object \n",
            " 5   brand          20876 non-null  object \n",
            " 6   model          20876 non-null  object \n",
            " 7   title          20871 non-null  object \n",
            " 8   year           20872 non-null  float64\n",
            " 9   km             20872 non-null  object \n",
            " 10  steering_side  20872 non-null  object \n",
            " 11  region_specs   20872 non-null  object \n",
            " 12  location       20872 non-null  object \n",
            " 13  tags           4522 non-null   object \n",
            "dtypes: float64(2), int64(1), object(11)\n",
            "memory usage: 2.3+ MB\n",
            "None\n",
            "                 id    num_of_pic          year\n",
            "count  21122.000000  20872.000000  20872.000000\n",
            "mean   10561.500000     14.202664   2017.716366\n",
            "std     6097.540529      4.552794      5.153022\n",
            "min        1.000000      1.000000   1951.000000\n",
            "25%     5281.250000     11.000000   2015.000000\n",
            "50%    10561.500000     15.000000   2019.000000\n",
            "75%    15841.750000     18.000000   2021.000000\n",
            "max    21122.000000     34.000000   2025.000000\n",
            "id                   0\n",
            "ad_id                0\n",
            "link                 0\n",
            "num_of_pic         250\n",
            "price              246\n",
            "brand              246\n",
            "model              246\n",
            "title              251\n",
            "year               250\n",
            "km                 250\n",
            "steering_side      250\n",
            "region_specs       250\n",
            "location           250\n",
            "tags             16600\n",
            "dtype: int64\n"
          ]
        },
        {
          "output_type": "display_data",
          "data": {
            "text/plain": [
              "<Figure size 1000x800 with 6 Axes>"
            ],
            "image/png": "[encoded data removed]"
          },
          "metadata": {}
        }
      ],
      "source": [
        "# Examine the DataFrame\n",
        "print(df.shape)\n",
        "print(df.info())\n",
        "print(df.describe())\n",
        "\n",
        "# Check for missing values\n",
        "print(df.isnull().sum())\n",
        "\n",
        "# Visualize the distribution of numerical features\n",
        "import matplotlib.pyplot as plt\n",
        "df['price'] = df['price'].astype(str)\n",
        "df['price'] = df['price'].str.replace(',', '') # Remove commas before converting to float\n",
        "df['price'] = df['price'].astype(float)\n",
        "df['year'] = df['year'].fillna(0).astype(int) # Fill missing years with 0\n",
        "df['km'] = df['km'].str.replace(',', '').str.replace(' km', '').astype(float)\n",
        "df.hist(figsize=(10, 8))\n",
        "plt.show()\n"
      ],
      "id": "1b4b3224"
    },
    {
      "id": "6a321d8b",
      "source": [
        "---"
      ],
      "cell_type": "markdown",
      "metadata": {
        "id": "6a321d8b"
      }
    },
    {
      "id": "8a2ff7be",
      "cell_type": "markdown",
      "source": [
        "## Data cleaning\n",
        "\n"
      ],
      "metadata": {
        "id": "8a2ff7be"
      }
    },
    {
      "source": [
        "df = df.drop(['num_of_pic', 'region_specs', 'tags'], axis=1)\n"
      ],
      "id": "82d08c5a",
      "cell_type": "code",
      "metadata": {
        "id": "82d08c5a"
      },
      "outputs": [],
      "execution_count": 4
    },
    {
      "outputs": [],
      "cell_type": "code",
      "execution_count": 5,
      "source": [
        "from sklearn.impute import SimpleImputer\n",
        "\n",
        "# Create an imputer object\n",
        "imputer = SimpleImputer(strategy='most_frequent')\n",
        "\n",
        "# Fit the imputer on the columns with missing values\n",
        "imputer.fit(df[['brand', 'model', 'title', 'steering_side', 'location']])\n",
        "\n",
        "# Transform the columns with missing values\n",
        "df[['brand', 'model', 'title', 'steering_side', 'location']] = imputer.transform(df[['brand', 'model', 'title', 'steering_side', 'location']])\n",
        "\n"
      ],
      "metadata": {
        "id": "6fb509e3"
      },
      "id": "6fb509e3"
    },
    {
      "id": "803499f2",
      "execution_count": 6,
      "cell_type": "code",
      "outputs": [],
      "source": [
        "from scipy.stats.mstats import winsorize\n",
        "\n",
        "# Winsorize the 'price' and 'km' columns\n",
        "df['price'] = winsorize(df['price'], limits=[0.05, 0.05])\n",
        "df['km'] = winsorize(df['km'], limits=[0.05, 0.05])\n",
        "\n"
      ],
      "metadata": {
        "id": "803499f2"
      }
    },
    {
      "cell_type": "code",
      "outputs": [],
      "source": [
        "df = df.drop('title', axis=1)\n",
        "\n"
      ],
      "execution_count": 7,
      "metadata": {
        "id": "a5c282e1"
      },
      "id": "a5c282e1"
    },
    {
      "cell_type": "code",
      "source": [
        "# Save cleaned dataset\n",
        "df.to_csv('ads_cleaned.csv', index=False)"
      ],
      "metadata": {
        "id": "G-ZXjW8hDe65"
      },
      "id": "G-ZXjW8hDe65",
      "execution_count": 12,
      "outputs": []
    },
    {
      "metadata": {
        "id": "982c0a42"
      },
      "cell_type": "markdown",
      "id": "982c0a42",
      "source": [
        "## Feature engineering\n",
        "\n",
        "\n"
      ]
    },
    {
      "cell_type": "code",
      "execution_count": 8,
      "outputs": [],
      "id": "5643cc18",
      "source": [
        "# Create interaction term between 'year' and 'km'\n",
        "df['year_km_interaction'] = df['year'] * df['km']\n",
        "\n",
        "# Create polynomial features for 'year' and 'km'\n",
        "df['year_squared'] = df['year'] ** 2\n",
        "df['km_squared'] = df['km'] ** 2\n",
        "\n"
      ],
      "metadata": {
        "id": "5643cc18"
      }
    },
    {
      "cell_type": "markdown",
      "source": [
        "## Data preparation\n",
        "\n",
        "\n"
      ],
      "id": "842ffafa",
      "metadata": {
        "id": "842ffafa"
      }
    },
    {
      "execution_count": 9,
      "outputs": [
        {
          "output_type": "stream",
          "name": "stderr",
          "text": [
            "/usr/local/lib/python3.10/dist-packages/sklearn/preprocessing/_encoders.py:868: FutureWarning: `sparse` was renamed to `sparse_output` in version 1.2 and will be removed in 1.4. `sparse_output` is ignored unless you leave `sparse` to its default value.\n",
            "  warnings.warn(\n"
          ]
        }
      ],
      "cell_type": "code",
      "metadata": {
        "id": "5ad2fbde",
        "outputId": "41321ad7-81f9-49a3-e731-7f3be28536e6",
        "colab": {
          "base_uri": "https://localhost:8080/"
        }
      },
      "source": [
        "from sklearn.preprocessing import OneHotEncoder, StandardScaler\n",
        "\n",
        "# Identify categorical and numerical features\n",
        "categorical_features = ['brand', 'model', 'steering_side', 'location']\n",
        "numerical_features = ['year', 'km', 'year_km_interaction', 'year_squared', 'km_squared']\n",
        "\n",
        "# One-hot encode categorical features\n",
        "encoder = OneHotEncoder(handle_unknown='ignore', sparse=False)\n",
        "encoded_categorical = encoder.fit_transform(df[categorical_features])\n",
        "\n",
        "# Scale numerical features\n",
        "scaler = StandardScaler()\n",
        "scaled_numerical = scaler.fit_transform(df[numerical_features])\n",
        "\n",
        "# Combine transformed features\n",
        "import pandas as pd\n",
        "encoded_df = pd.DataFrame(encoded_categorical, columns=encoder.get_feature_names_out(categorical_features))\n",
        "scaled_df = pd.DataFrame(scaled_numerical, columns=numerical_features)\n",
        "processed_df = pd.concat([df[['price']], scaled_df, encoded_df], axis=1)\n"
      ],
      "id": "5ad2fbde"
    },
    {
      "source": [
        "## Train test split\n",
        "\n",
        "\n"
      ],
      "id": "eadff587",
      "cell_type": "markdown",
      "metadata": {
        "id": "eadff587"
      }
    },
    {
      "source": [
        "from sklearn.model_selection import train_test_split\n",
        "\n",
        "# Separate features and target variable\n",
        "X = processed_df.drop('price', axis=1)\n",
        "y = processed_df['price']\n",
        "\n",
        "# Split the data into training and testing sets\n",
        "X_train, X_test, y_train, y_test = train_test_split(X, y, test_size=0.2, random_state=42)\n",
        "\n"
      ],
      "outputs": [],
      "execution_count": 10,
      "id": "f066de77",
      "cell_type": "code",
      "metadata": {
        "id": "f066de77"
      }
    },
    {
      "id": "d63491a0",
      "source": [
        "## Model training\n",
        "\n",
        "\n"
      ],
      "metadata": {
        "id": "d63491a0"
      },
      "cell_type": "markdown"
    },
    {
      "cell_type": "code",
      "execution_count": 15,
      "id": "d4fb9cb3",
      "source": [
        "# Import the RandomForestRegressor class.\n",
        "from sklearn.ensemble import RandomForestRegressor\n",
        "\n",
        "# Instantiate a RandomForestRegressor object.\n",
        "model = RandomForestRegressor(n_estimators=100, random_state=42)\n",
        "\n",
        "# Fit the model to the training data.\n",
        "model.fit(X_train, y_train)\n"
      ],
      "outputs": [
        {
          "output_type": "execute_result",
          "data": {
            "text/plain": [
              "RandomForestRegressor(random_state=42)"
            ],
            "text/html": [
              "<style>#sk-container-id-1 {color: black;background-color: white;}#sk-container-id-1 pre{padding: 0;}#sk-container-id-1 div.sk-toggleable {background-color: white;}#sk-container-id-1 label.sk-toggleable__label {cursor: pointer;display: block;width: 100%;margin-bottom: 0;padding: 0.3em;box-sizing: border-box;text-align: center;}#sk-container-id-1 label.sk-toggleable__label-arrow:before {content: \"▸\";float: left;margin-right: 0.25em;color: #696969;}#sk-container-id-1 label.sk-toggleable__label-arrow:hover:before {color: black;}#sk-container-id-1 div.sk-estimator:hover label.sk-toggleable__label-arrow:before {color: black;}#sk-container-id-1 div.sk-toggleable__content {max-height: 0;max-width: 0;overflow: hidden;text-align: left;background-color: #f0f8ff;}#sk-container-id-1 div.sk-toggleable__content pre {margin: 0.2em;color: black;border-radius: 0.25em;background-color: #f0f8ff;}#sk-container-id-1 input.sk-toggleable__control:checked~div.sk-toggleable__content {max-height: 200px;max-width: 100%;overflow: auto;}#sk-container-id-1 input.sk-toggleable__control:checked~label.sk-toggleable__label-arrow:before {content: \"▾\";}#sk-container-id-1 div.sk-estimator input.sk-toggleable__control:checked~label.sk-toggleable__label {background-color: #d4ebff;}#sk-container-id-1 div.sk-label input.sk-toggleable__control:checked~label.sk-toggleable__label {background-color: #d4ebff;}#sk-container-id-1 input.sk-hidden--visually {border: 0;clip: rect(1px 1px 1px 1px);clip: rect(1px, 1px, 1px, 1px);height: 1px;margin: -1px;overflow: hidden;padding: 0;position: absolute;width: 1px;}#sk-container-id-1 div.sk-estimator {font-family: monospace;background-color: #f0f8ff;border: 1px dotted black;border-radius: 0.25em;box-sizing: border-box;margin-bottom: 0.5em;}#sk-container-id-1 div.sk-estimator:hover {background-color: #d4ebff;}#sk-container-id-1 div.sk-parallel-item::after {content: \"\";width: 100%;border-bottom: 1px solid gray;flex-grow: 1;}#sk-container-id-1 div.sk-label:hover label.sk-toggleable__label {background-color: #d4ebff;}#sk-container-id-1 div.sk-serial::before {content: \"\";position: absolute;border-left: 1px solid gray;box-sizing: border-box;top: 0;bottom: 0;left: 50%;z-index: 0;}#sk-container-id-1 div.sk-serial {display: flex;flex-direction: column;align-items: center;background-color: white;padding-right: 0.2em;padding-left: 0.2em;position: relative;}#sk-container-id-1 div.sk-item {position: relative;z-index: 1;}#sk-container-id-1 div.sk-parallel {display: flex;align-items: stretch;justify-content: center;background-color: white;position: relative;}#sk-container-id-1 div.sk-item::before, #sk-container-id-1 div.sk-parallel-item::before {content: \"\";position: absolute;border-left: 1px solid gray;box-sizing: border-box;top: 0;bottom: 0;left: 50%;z-index: -1;}#sk-container-id-1 div.sk-parallel-item {display: flex;flex-direction: column;z-index: 1;position: relative;background-color: white;}#sk-container-id-1 div.sk-parallel-item:first-child::after {align-self: flex-end;width: 50%;}#sk-container-id-1 div.sk-parallel-item:last-child::after {align-self: flex-start;width: 50%;}#sk-container-id-1 div.sk-parallel-item:only-child::after {width: 0;}#sk-container-id-1 div.sk-dashed-wrapped {border: 1px dashed gray;margin: 0 0.4em 0.5em 0.4em;box-sizing: border-box;padding-bottom: 0.4em;background-color: white;}#sk-container-id-1 div.sk-label label {font-family: monospace;font-weight: bold;display: inline-block;line-height: 1.2em;}#sk-container-id-1 div.sk-label-container {text-align: center;}#sk-container-id-1 div.sk-container {/* jupyter's `normalize.less` sets `[hidden] { display: none; }` but bootstrap.min.css set `[hidden] { display: none !important; }` so we also need the `!important` here to be able to override the default hidden behavior on the sphinx rendered scikit-learn.org. See: https://github.com/scikit-learn/scikit-learn/issues/21755 */display: inline-block !important;position: relative;}#sk-container-id-1 div.sk-text-repr-fallback {display: none;}</style><div id=\"sk-container-id-1\" class=\"sk-top-container\"><div class=\"sk-text-repr-fallback\"><pre>RandomForestRegressor(random_state=42)</pre><b>In a Jupyter environment, please rerun this cell to show the HTML representation or trust the notebook. <br />On GitHub, the HTML representation is unable to render, please try loading this page with nbviewer.org.</b></div><div class=\"sk-container\" hidden><div class=\"sk-item\"><div class=\"sk-estimator sk-toggleable\"><input class=\"sk-toggleable__control sk-hidden--visually\" id=\"sk-estimator-id-1\" type=\"checkbox\" checked><label for=\"sk-estimator-id-1\" class=\"sk-toggleable__label sk-toggleable__label-arrow\">RandomForestRegressor</label><div class=\"sk-toggleable__content\"><pre>RandomForestRegressor(random_state=42)</pre></div></div></div></div></div>"
            ]
          },
          "metadata": {},
          "execution_count": 15
        }
      ],
      "metadata": {
        "id": "d4fb9cb3",
        "outputId": "5894eb8f-5d12-404d-98cb-c1cdf941993a",
        "colab": {
          "base_uri": "https://localhost:8080/",
          "height": 75
        }
      }
    },
    {
      "id": "82222861",
      "metadata": {
        "id": "82222861"
      },
      "source": [
        "## Model optimization\n",
        "\n",
        "\n"
      ],
      "cell_type": "markdown"
    },
    {
      "cell_type": "code",
      "source": [
        "from sklearn.model_selection import GridSearchCV\n",
        "\n",
        "# Define hyperparameter grids for Gradient Boosting and Random Forest models\n",
        "param_grid_rf = {\n",
        "    'n_estimators': [100, 200, 300],\n",
        "    'max_features': ['auto', 'sqrt', 'log2'],\n",
        "    'max_depth': [None, 10, 20, 30],\n",
        "    'min_samples_split': [2, 5, 10],\n",
        "    'min_samples_leaf': [1, 2, 4]\n",
        "}\n",
        "\n",
        "\n",
        "# Create grid search object\n",
        "grid_search_rf = GridSearchCV(RandomForestRegressor(), param_grid_rf, cv=5)\n",
        "\n",
        "# Fit grid search object to training data\n",
        "grid_search_rf.fit(X_train, y_train)\n",
        "\n",
        "# Print best hyperparameters\n",
        "best_rf_model = grid_search_rf.best_estimator_\n",
        "print(best_rf_model)\n",
        "\n",
        "# Save trained model as pkl\n",
        "import pickle\n",
        "with open('model_rf.pkl', 'wb') as f:\n",
        "    pickle.dump(best_rf_model, f)"
      ],
      "metadata": {
        "id": "07QiAXuQDtHh"
      },
      "id": "07QiAXuQDtHh",
      "execution_count": null,
      "outputs": []
    },
    {
      "cell_type": "markdown",
      "id": "f3e8f969",
      "metadata": {
        "id": "f3e8f969"
      },
      "source": [
        "## Model evaluation\n",
        "\n"
      ]
    },
    {
      "metadata": {
        "id": "000d5066",
        "outputId": "2ebb4dd7-8a76-404f-ffc2-28b5f8413f85",
        "colab": {
          "base_uri": "https://localhost:8080/"
        }
      },
      "outputs": [
        {
          "output_type": "stream",
          "name": "stdout",
          "text": [
            "17853.212367121116\n"
          ]
        }
      ],
      "cell_type": "code",
      "execution_count": 14,
      "source": [
        "from sklearn.metrics import mean_absolute_error\n",
        "\n",
        "# Predict car prices on the testing data\n",
        "y_pred = model.predict(X_test)\n",
        "\n",
        "# Calculate Mean Absolute Error (MAE)\n",
        "rf_predictions = best_rf_model.predict(X_test)\n",
        "mae_rf = mean_absolute_error(y_test, rf_predictions)\n",
        "\n",
        "# Print the MAE value\n",
        "print(mae_rf)\n",
        "mae = mean_absolute_error(y_test, y_pred)\n"
      ],
      "id": "000d5066"
    }
  ],
  "nbformat_minor": 5,
  "metadata": {
    "colab": {
      "provenance": []
    },
    "language_info": {
      "name": "python"
    },
    "kernelspec": {
      "name": "python3",
      "display_name": "Python 3"
    }
  },
  "nbformat": 4
}