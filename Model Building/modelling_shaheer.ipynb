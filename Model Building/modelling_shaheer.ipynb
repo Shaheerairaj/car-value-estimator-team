{
 "cells": [
  {
   "cell_type": "code",
   "execution_count": 1,
   "metadata": {},
   "outputs": [],
   "source": [
    "import pandas as pd\n",
    "import numpy as np\n",
    "import warnings\n",
    "warnings.filterwarnings('ignore')"
   ]
  },
  {
   "cell_type": "markdown",
   "metadata": {},
   "source": [
    "# 1. Data Preprocessing and Feature Engineering"
   ]
  },
  {
   "cell_type": "markdown",
   "metadata": {},
   "source": [
    "## Clean and Prepare"
   ]
  },
  {
   "cell_type": "code",
   "execution_count": 2,
   "metadata": {},
   "outputs": [],
   "source": [
    "df = pd.read_csv('../data/ads_all_cleaned.csv')"
   ]
  },
  {
   "cell_type": "markdown",
   "metadata": {},
   "source": [
    "### Missing Values"
   ]
  },
  {
   "cell_type": "markdown",
   "metadata": {},
   "source": [
    "One missing value in title which we will ignore"
   ]
  },
  {
   "cell_type": "code",
   "execution_count": 3,
   "metadata": {},
   "outputs": [
    {
     "data": {
      "text/plain": [
       "id                  0\n",
       "num_of_pic          0\n",
       "price               0\n",
       "brand               0\n",
       "model               0\n",
       "title               1\n",
       "year                0\n",
       "km                  0\n",
       "steering_side       0\n",
       "region_specs        0\n",
       "location            0\n",
       "location_cleaned    0\n",
       "dtype: int64"
      ]
     },
     "execution_count": 3,
     "metadata": {},
     "output_type": "execute_result"
    }
   ],
   "source": [
    "df.isnull().sum()"
   ]
  },
  {
   "cell_type": "markdown",
   "metadata": {},
   "source": [
    "### Outliers"
   ]
  },
  {
   "cell_type": "markdown",
   "metadata": {},
   "source": [
    "I will choose to keep outliers."
   ]
  },
  {
   "cell_type": "markdown",
   "metadata": {},
   "source": [
    "## Feature Engineering"
   ]
  },
  {
   "cell_type": "markdown",
   "metadata": {},
   "source": [
    "Below is the wordcloud that was generated in the data analysis phase in the ads_all_after_cleaning.html report"
   ]
  },
  {
   "cell_type": "markdown",
   "metadata": {},
   "source": [
    "Some of the more common words which could be useful are **warranty**, **accident** (to determine ads where there is specific mention that the car is accident free), **service** (to indicate a full service history) "
   ]
  },
  {
   "cell_type": "markdown",
   "metadata": {},
   "source": [
    "![wordcloud](../data/title-column-wordcloud.png)"
   ]
  },
  {
   "cell_type": "code",
   "execution_count": 4,
   "metadata": {},
   "outputs": [],
   "source": [
    "# Feature Engineering\n",
    "df['warranty'] = df['title'].apply(lambda x: True if 'warranty' in str(x).lower() else False)\n",
    "df['service_hist'] = df['title'].apply(lambda x: True if 'service' in str(x).lower() else False)\n",
    "df['no_accident'] = df['title'].apply(lambda x: True if 'accident' in str(x).lower() else False)\n",
    "\n",
    "luxury_brands = ['mercedez-benz','lexus','bmw','audi']\n",
    "df['luxury'] = df['brand'].apply(lambda x: 1 if x.lower() in luxury_brands else 0)\n",
    "\n",
    "df['age'] = 2024 - df['year']\n",
    "\n",
    "df.drop(['id','title','year','location'], axis=1, inplace=True)\n"
   ]
  },
  {
   "cell_type": "markdown",
   "metadata": {},
   "source": [
    "## Data Preprocessing"
   ]
  },
  {
   "cell_type": "code",
   "execution_count": 5,
   "metadata": {},
   "outputs": [],
   "source": [
    "from sklearn.compose import ColumnTransformer\n",
    "from sklearn.impute import SimpleImputer\n",
    "from sklearn.pipeline import Pipeline\n",
    "from sklearn.preprocessing import OneHotEncoder, StandardScaler\n",
    "\n",
    "# Define feature columns\n",
    "categorical_features = ['brand','model','region_specs','location_cleaned']\n",
    "numerical_features = ['km','age']\n",
    "binary_features = ['warranty', 'service_hist', 'no_accident','luxury']\n",
    "\n",
    "# Preprocessing pipelines\n",
    "categorical_transformer = Pipeline(steps=[\n",
    "    ('imputer', SimpleImputer(strategy='constant', fill_value='missing')),\n",
    "    ('onehot', OneHotEncoder(handle_unknown='ignore', sparse_output=False))\n",
    "])\n",
    "\n",
    "numerical_transformer = Pipeline(steps=[\n",
    "    ('imputer', SimpleImputer(strategy='mean')),\n",
    "    ('scaler', StandardScaler())\n",
    "])\n",
    "\n",
    "binary_transformer = Pipeline(steps=[\n",
    "    ('imputer', SimpleImputer(strategy='constant', fill_value=False))\n",
    "])\n",
    "\n",
    "# Column transformer\n",
    "preprocessor = ColumnTransformer(\n",
    "    transformers=[\n",
    "        ('num', numerical_transformer, numerical_features),\n",
    "        ('cat', categorical_transformer, categorical_features),\n",
    "        ('bin', binary_transformer, binary_features)\n",
    "    ])"
   ]
  },
  {
   "cell_type": "code",
   "execution_count": 6,
   "metadata": {},
   "outputs": [],
   "source": [
    "X = df.drop('price', axis=1)\n",
    "y = df['price']"
   ]
  },
  {
   "cell_type": "code",
   "execution_count": 7,
   "metadata": {},
   "outputs": [
    {
     "data": {
      "text/html": [
       "<div>\n",
       "<style scoped>\n",
       "    .dataframe tbody tr th:only-of-type {\n",
       "        vertical-align: middle;\n",
       "    }\n",
       "\n",
       "    .dataframe tbody tr th {\n",
       "        vertical-align: top;\n",
       "    }\n",
       "\n",
       "    .dataframe thead th {\n",
       "        text-align: right;\n",
       "    }\n",
       "</style>\n",
       "<table border=\"1\" class=\"dataframe\">\n",
       "  <thead>\n",
       "    <tr style=\"text-align: right;\">\n",
       "      <th></th>\n",
       "      <th>num_of_pic</th>\n",
       "      <th>brand</th>\n",
       "      <th>model</th>\n",
       "      <th>km</th>\n",
       "      <th>steering_side</th>\n",
       "      <th>region_specs</th>\n",
       "      <th>location_cleaned</th>\n",
       "      <th>warranty</th>\n",
       "      <th>service_hist</th>\n",
       "      <th>no_accident</th>\n",
       "      <th>luxury</th>\n",
       "      <th>age</th>\n",
       "    </tr>\n",
       "  </thead>\n",
       "  <tbody>\n",
       "    <tr>\n",
       "      <th>0</th>\n",
       "      <td>17</td>\n",
       "      <td>Ford</td>\n",
       "      <td>F-Series Pickup</td>\n",
       "      <td>107000</td>\n",
       "      <td>Left Hand</td>\n",
       "      <td>GCC Specs</td>\n",
       "      <td>Dubai</td>\n",
       "      <td>False</td>\n",
       "      <td>True</td>\n",
       "      <td>False</td>\n",
       "      <td>0</td>\n",
       "      <td>6</td>\n",
       "    </tr>\n",
       "    <tr>\n",
       "      <th>1</th>\n",
       "      <td>18</td>\n",
       "      <td>Ford</td>\n",
       "      <td>Mustang</td>\n",
       "      <td>2000</td>\n",
       "      <td>Left Hand</td>\n",
       "      <td>American Specs</td>\n",
       "      <td>Sharjah</td>\n",
       "      <td>True</td>\n",
       "      <td>False</td>\n",
       "      <td>False</td>\n",
       "      <td>0</td>\n",
       "      <td>3</td>\n",
       "    </tr>\n",
       "    <tr>\n",
       "      <th>2</th>\n",
       "      <td>19</td>\n",
       "      <td>Ford</td>\n",
       "      <td>Edge</td>\n",
       "      <td>79000</td>\n",
       "      <td>Left Hand</td>\n",
       "      <td>GCC Specs</td>\n",
       "      <td>Dubai</td>\n",
       "      <td>False</td>\n",
       "      <td>True</td>\n",
       "      <td>False</td>\n",
       "      <td>0</td>\n",
       "      <td>8</td>\n",
       "    </tr>\n",
       "    <tr>\n",
       "      <th>3</th>\n",
       "      <td>19</td>\n",
       "      <td>Ford</td>\n",
       "      <td>Mustang</td>\n",
       "      <td>55000</td>\n",
       "      <td>Left Hand</td>\n",
       "      <td>GCC Specs</td>\n",
       "      <td>Dubai</td>\n",
       "      <td>True</td>\n",
       "      <td>True</td>\n",
       "      <td>False</td>\n",
       "      <td>0</td>\n",
       "      <td>4</td>\n",
       "    </tr>\n",
       "    <tr>\n",
       "      <th>4</th>\n",
       "      <td>19</td>\n",
       "      <td>Ford</td>\n",
       "      <td>Mustang</td>\n",
       "      <td>29000</td>\n",
       "      <td>Left Hand</td>\n",
       "      <td>GCC Specs</td>\n",
       "      <td>Dubai</td>\n",
       "      <td>True</td>\n",
       "      <td>True</td>\n",
       "      <td>False</td>\n",
       "      <td>0</td>\n",
       "      <td>1</td>\n",
       "    </tr>\n",
       "    <tr>\n",
       "      <th>...</th>\n",
       "      <td>...</td>\n",
       "      <td>...</td>\n",
       "      <td>...</td>\n",
       "      <td>...</td>\n",
       "      <td>...</td>\n",
       "      <td>...</td>\n",
       "      <td>...</td>\n",
       "      <td>...</td>\n",
       "      <td>...</td>\n",
       "      <td>...</td>\n",
       "      <td>...</td>\n",
       "      <td>...</td>\n",
       "    </tr>\n",
       "    <tr>\n",
       "      <th>20867</th>\n",
       "      <td>20</td>\n",
       "      <td>Volkswagen</td>\n",
       "      <td>Passat</td>\n",
       "      <td>107624</td>\n",
       "      <td>Left Hand</td>\n",
       "      <td>GCC Specs</td>\n",
       "      <td>Dubai</td>\n",
       "      <td>False</td>\n",
       "      <td>True</td>\n",
       "      <td>False</td>\n",
       "      <td>0</td>\n",
       "      <td>10</td>\n",
       "    </tr>\n",
       "    <tr>\n",
       "      <th>20868</th>\n",
       "      <td>17</td>\n",
       "      <td>Volkswagen</td>\n",
       "      <td>Tiguan</td>\n",
       "      <td>0</td>\n",
       "      <td>Left Hand</td>\n",
       "      <td>Chinese Specs</td>\n",
       "      <td>Dubai</td>\n",
       "      <td>False</td>\n",
       "      <td>False</td>\n",
       "      <td>False</td>\n",
       "      <td>0</td>\n",
       "      <td>1</td>\n",
       "    </tr>\n",
       "    <tr>\n",
       "      <th>20869</th>\n",
       "      <td>17</td>\n",
       "      <td>Volkswagen</td>\n",
       "      <td>Transporter</td>\n",
       "      <td>0</td>\n",
       "      <td>Left Hand</td>\n",
       "      <td>GCC Specs</td>\n",
       "      <td>Dubai</td>\n",
       "      <td>False</td>\n",
       "      <td>False</td>\n",
       "      <td>False</td>\n",
       "      <td>0</td>\n",
       "      <td>5</td>\n",
       "    </tr>\n",
       "    <tr>\n",
       "      <th>20870</th>\n",
       "      <td>17</td>\n",
       "      <td>Volkswagen</td>\n",
       "      <td>Touareg</td>\n",
       "      <td>54300</td>\n",
       "      <td>Left Hand</td>\n",
       "      <td>GCC Specs</td>\n",
       "      <td>Dubai</td>\n",
       "      <td>False</td>\n",
       "      <td>False</td>\n",
       "      <td>False</td>\n",
       "      <td>0</td>\n",
       "      <td>3</td>\n",
       "    </tr>\n",
       "    <tr>\n",
       "      <th>20871</th>\n",
       "      <td>15</td>\n",
       "      <td>Volkswagen</td>\n",
       "      <td>GTI</td>\n",
       "      <td>149000</td>\n",
       "      <td>Left Hand</td>\n",
       "      <td>GCC Specs</td>\n",
       "      <td>Dubai</td>\n",
       "      <td>False</td>\n",
       "      <td>False</td>\n",
       "      <td>False</td>\n",
       "      <td>0</td>\n",
       "      <td>8</td>\n",
       "    </tr>\n",
       "  </tbody>\n",
       "</table>\n",
       "<p>20872 rows × 12 columns</p>\n",
       "</div>"
      ],
      "text/plain": [
       "       num_of_pic       brand            model      km steering_side  \\\n",
       "0              17        Ford  F-Series Pickup  107000     Left Hand   \n",
       "1              18        Ford          Mustang    2000     Left Hand   \n",
       "2              19        Ford             Edge   79000     Left Hand   \n",
       "3              19        Ford          Mustang   55000     Left Hand   \n",
       "4              19        Ford          Mustang   29000     Left Hand   \n",
       "...           ...         ...              ...     ...           ...   \n",
       "20867          20  Volkswagen           Passat  107624     Left Hand   \n",
       "20868          17  Volkswagen           Tiguan       0     Left Hand   \n",
       "20869          17  Volkswagen      Transporter       0     Left Hand   \n",
       "20870          17  Volkswagen          Touareg   54300     Left Hand   \n",
       "20871          15  Volkswagen              GTI  149000     Left Hand   \n",
       "\n",
       "         region_specs location_cleaned  warranty  service_hist  no_accident  \\\n",
       "0           GCC Specs            Dubai     False          True        False   \n",
       "1      American Specs          Sharjah      True         False        False   \n",
       "2           GCC Specs            Dubai     False          True        False   \n",
       "3           GCC Specs            Dubai      True          True        False   \n",
       "4           GCC Specs            Dubai      True          True        False   \n",
       "...               ...              ...       ...           ...          ...   \n",
       "20867       GCC Specs            Dubai     False          True        False   \n",
       "20868   Chinese Specs            Dubai     False         False        False   \n",
       "20869       GCC Specs            Dubai     False         False        False   \n",
       "20870       GCC Specs            Dubai     False         False        False   \n",
       "20871       GCC Specs            Dubai     False         False        False   \n",
       "\n",
       "       luxury  age  \n",
       "0           0    6  \n",
       "1           0    3  \n",
       "2           0    8  \n",
       "3           0    4  \n",
       "4           0    1  \n",
       "...       ...  ...  \n",
       "20867       0   10  \n",
       "20868       0    1  \n",
       "20869       0    5  \n",
       "20870       0    3  \n",
       "20871       0    8  \n",
       "\n",
       "[20872 rows x 12 columns]"
      ]
     },
     "execution_count": 7,
     "metadata": {},
     "output_type": "execute_result"
    }
   ],
   "source": [
    "X"
   ]
  },
  {
   "cell_type": "code",
   "execution_count": 8,
   "metadata": {},
   "outputs": [
    {
     "data": {
      "text/plain": [
       "0        159000\n",
       "1        276000\n",
       "2         62500\n",
       "3        169000\n",
       "4        209000\n",
       "          ...  \n",
       "20867     26000\n",
       "20868    110000\n",
       "20869     79000\n",
       "20870    185000\n",
       "20871     57000\n",
       "Name: price, Length: 20872, dtype: int64"
      ]
     },
     "execution_count": 8,
     "metadata": {},
     "output_type": "execute_result"
    }
   ],
   "source": [
    "y"
   ]
  },
  {
   "cell_type": "code",
   "execution_count": 9,
   "metadata": {},
   "outputs": [],
   "source": [
    "# train_test_split\n",
    "from sklearn.model_selection import train_test_split\n",
    "X_train, X_test, y_train, y_test = train_test_split(X, y, train_size=0.2, random_state=0)"
   ]
  },
  {
   "cell_type": "markdown",
   "metadata": {},
   "source": [
    "# 2. Model Training"
   ]
  },
  {
   "cell_type": "code",
   "execution_count": 10,
   "metadata": {},
   "outputs": [],
   "source": [
    "import pandas as pd\n",
    "from sklearn.linear_model import LinearRegression\n",
    "from sklearn.ensemble import RandomForestRegressor, HistGradientBoostingRegressor\n",
    "from sklearn.svm import LinearSVR\n",
    "from sklearn.metrics import mean_absolute_error, r2_score\n",
    "from sklearn.model_selection import cross_val_score\n",
    "import xgboost as xgb\n",
    "import lightgbm as lgb\n",
    "from datetime import datetime\n",
    "\n",
    "# Define the models\n",
    "models = {\n",
    "    'linear_regression': LinearRegression(),\n",
    "    'svm': LinearSVR(max_iter=1000),\n",
    "    'random_forest': RandomForestRegressor(),\n",
    "    'gradient_boosted_rf': HistGradientBoostingRegressor(),\n",
    "    'xgboost': xgb.XGBRegressor(),\n",
    "    'lightgbm': lgb.LGBMRegressor()\n",
    "}\n",
    "\n",
    "def train_models(models):\n",
    "    # Dictionary to hold the results\n",
    "    results = {\n",
    "        'model': [],\n",
    "        'MAE': [],\n",
    "        'R2': [],\n",
    "        'training_time': []\n",
    "    }\n",
    "\n",
    "    cv_scores = {}\n",
    "\n",
    "    # Iterate over the models\n",
    "    for model_name, model in models.items():\n",
    "        # Create pipeline with preprocessor and model\n",
    "        pipeline = Pipeline(steps=[\n",
    "            ('preprocessor', preprocessor),\n",
    "            ('model', model)\n",
    "        ])\n",
    "        train_start = datetime.now()\n",
    "        pipeline.fit(X_train, y_train)\n",
    "        train_stop = datetime.now()\n",
    "        train_time = train_stop - train_start\n",
    "\n",
    "        y_pred = pipeline.predict(X_test)\n",
    "\n",
    "        # Perform k-fold cross-validation\n",
    "        cv_score = cross_val_score(pipeline, X, y, cv=10, scoring='neg_mean_absolute_error')\n",
    "\n",
    "        cv_scores[model_name] = -cv_score\n",
    "        \n",
    "        # Calculate the mean MAE score across folds\n",
    "        mean_mae = -cv_score.mean()\n",
    "        \n",
    "        # Collect the results\n",
    "        results['model'].append(model_name)\n",
    "        results['MAE'].append(mean_mae)\n",
    "        results['R2'].append(r2_score(y_test, y_pred))\n",
    "        results['training_time'].append(train_time.total_seconds())  # Convert to seconds for easier readability\n",
    "\n",
    "    return results, cv_scores\n",
    "    \n",
    "# results, cv_scores = train_models(models)\n"
   ]
  },
  {
   "cell_type": "markdown",
   "metadata": {},
   "source": [
    "# 3. Model Evaluation and Selection"
   ]
  },
  {
   "cell_type": "code",
   "execution_count": 14,
   "metadata": {},
   "outputs": [
    {
     "data": {
      "text/html": [
       "<div>\n",
       "<style scoped>\n",
       "    .dataframe tbody tr th:only-of-type {\n",
       "        vertical-align: middle;\n",
       "    }\n",
       "\n",
       "    .dataframe tbody tr th {\n",
       "        vertical-align: top;\n",
       "    }\n",
       "\n",
       "    .dataframe thead th {\n",
       "        text-align: right;\n",
       "    }\n",
       "</style>\n",
       "<table border=\"1\" class=\"dataframe\">\n",
       "  <thead>\n",
       "    <tr style=\"text-align: right;\">\n",
       "      <th></th>\n",
       "      <th>MAE</th>\n",
       "      <th>R2</th>\n",
       "      <th>training_time</th>\n",
       "    </tr>\n",
       "    <tr>\n",
       "      <th>model</th>\n",
       "      <th></th>\n",
       "      <th></th>\n",
       "      <th></th>\n",
       "    </tr>\n",
       "  </thead>\n",
       "  <tbody>\n",
       "    <tr>\n",
       "      <th>linear_regression</th>\n",
       "      <td>84048.626664</td>\n",
       "      <td>-8.931277e+07</td>\n",
       "      <td>0.164168</td>\n",
       "    </tr>\n",
       "    <tr>\n",
       "      <th>svm</th>\n",
       "      <td>167323.751657</td>\n",
       "      <td>-7.892748e-01</td>\n",
       "      <td>0.301040</td>\n",
       "    </tr>\n",
       "    <tr>\n",
       "      <th>random_forest</th>\n",
       "      <td>45722.455395</td>\n",
       "      <td>3.164514e-01</td>\n",
       "      <td>12.132669</td>\n",
       "    </tr>\n",
       "    <tr>\n",
       "      <th>gradient_boosted_rf</th>\n",
       "      <td>56923.942802</td>\n",
       "      <td>2.844169e-01</td>\n",
       "      <td>6.322092</td>\n",
       "    </tr>\n",
       "    <tr>\n",
       "      <th>xgboost</th>\n",
       "      <td>47262.166245</td>\n",
       "      <td>3.432632e-01</td>\n",
       "      <td>0.393491</td>\n",
       "    </tr>\n",
       "    <tr>\n",
       "      <th>lightgbm</th>\n",
       "      <td>55767.041593</td>\n",
       "      <td>2.817230e-01</td>\n",
       "      <td>0.247080</td>\n",
       "    </tr>\n",
       "  </tbody>\n",
       "</table>\n",
       "</div>"
      ],
      "text/plain": [
       "                               MAE            R2  training_time\n",
       "model                                                          \n",
       "linear_regression     84048.626664 -8.931277e+07       0.164168\n",
       "svm                  167323.751657 -7.892748e-01       0.301040\n",
       "random_forest         45722.455395  3.164514e-01      12.132669\n",
       "gradient_boosted_rf   56923.942802  2.844169e-01       6.322092\n",
       "xgboost               47262.166245  3.432632e-01       0.393491\n",
       "lightgbm              55767.041593  2.817230e-01       0.247080"
      ]
     },
     "execution_count": 14,
     "metadata": {},
     "output_type": "execute_result"
    }
   ],
   "source": [
    "# Convert the results to a DataFrame\n",
    "results_df = pd.DataFrame(results).set_index('model')\n",
    "\n",
    "# Display the DataFrame\n",
    "results_df"
   ]
  },
  {
   "cell_type": "markdown",
   "metadata": {},
   "source": [
    "### Model Training Outliers Removed"
   ]
  },
  {
   "cell_type": "code",
   "execution_count": 11,
   "metadata": {},
   "outputs": [],
   "source": [
    "Q1 = df['price'].quantile(0.25)\n",
    "Q3 = df['price'].quantile(0.75)\n",
    "IQR = Q3 - Q1\n",
    "lower_limit = Q1 - 1.5 * IQR\n",
    "upper_limit = Q3 + 1.5 * IQR"
   ]
  },
  {
   "cell_type": "code",
   "execution_count": 12,
   "metadata": {},
   "outputs": [],
   "source": [
    "df_outliers_removed = df[(df['price'] > lower_limit) & (df['price'] < upper_limit)]"
   ]
  },
  {
   "cell_type": "code",
   "execution_count": 13,
   "metadata": {},
   "outputs": [
    {
     "name": "stdout",
     "output_type": "stream",
     "text": [
      "[LightGBM] [Info] Auto-choosing row-wise multi-threading, the overhead of testing was 0.001091 seconds.\n",
      "You can set `force_row_wise=true` to remove the overhead.\n",
      "And if memory is not enough, you can set `force_col_wise=true`.\n",
      "[LightGBM] [Info] Total Bins 462\n",
      "[LightGBM] [Info] Number of data points in the train set: 3865, number of used features: 90\n",
      "[LightGBM] [Info] Start training from score 99724.522122\n",
      "[LightGBM] [Info] Auto-choosing row-wise multi-threading, the overhead of testing was 0.001103 seconds.\n",
      "You can set `force_row_wise=true` to remove the overhead.\n",
      "And if memory is not enough, you can set `force_col_wise=true`.\n",
      "[LightGBM] [Info] Total Bins 679\n",
      "[LightGBM] [Info] Number of data points in the train set: 17392, number of used features: 191\n",
      "[LightGBM] [Info] Start training from score 105451.881900\n",
      "[LightGBM] [Info] Auto-choosing row-wise multi-threading, the overhead of testing was 0.000846 seconds.\n",
      "You can set `force_row_wise=true` to remove the overhead.\n",
      "And if memory is not enough, you can set `force_col_wise=true`.\n",
      "[LightGBM] [Info] Total Bins 672\n",
      "[LightGBM] [Info] Number of data points in the train set: 17392, number of used features: 187\n",
      "[LightGBM] [Info] Start training from score 107456.069802\n",
      "[LightGBM] [Info] Auto-choosing col-wise multi-threading, the overhead of testing was 0.001772 seconds.\n",
      "You can set `force_col_wise=true` to remove the overhead.\n",
      "[LightGBM] [Info] Total Bins 706\n",
      "[LightGBM] [Info] Number of data points in the train set: 17392, number of used features: 204\n",
      "[LightGBM] [Info] Start training from score 104294.723321\n",
      "[LightGBM] [Info] Auto-choosing row-wise multi-threading, the overhead of testing was 0.000741 seconds.\n",
      "You can set `force_row_wise=true` to remove the overhead.\n",
      "And if memory is not enough, you can set `force_col_wise=true`.\n",
      "[LightGBM] [Info] Total Bins 709\n",
      "[LightGBM] [Info] Number of data points in the train set: 17392, number of used features: 206\n",
      "[LightGBM] [Info] Start training from score 102885.644664\n",
      "[LightGBM] [Info] Auto-choosing row-wise multi-threading, the overhead of testing was 0.001113 seconds.\n",
      "You can set `force_row_wise=true` to remove the overhead.\n",
      "And if memory is not enough, you can set `force_col_wise=true`.\n",
      "[LightGBM] [Info] Total Bins 708\n",
      "[LightGBM] [Info] Number of data points in the train set: 17392, number of used features: 205\n",
      "[LightGBM] [Info] Start training from score 102257.018342\n",
      "[LightGBM] [Info] Auto-choosing row-wise multi-threading, the overhead of testing was 0.005328 seconds.\n",
      "You can set `force_row_wise=true` to remove the overhead.\n",
      "And if memory is not enough, you can set `force_col_wise=true`.\n",
      "[LightGBM] [Info] Total Bins 696\n",
      "[LightGBM] [Info] Number of data points in the train set: 17393, number of used features: 199\n",
      "[LightGBM] [Info] Start training from score 98956.738228\n",
      "[LightGBM] [Info] Auto-choosing row-wise multi-threading, the overhead of testing was 0.001108 seconds.\n",
      "You can set `force_row_wise=true` to remove the overhead.\n",
      "And if memory is not enough, you can set `force_col_wise=true`.\n",
      "[LightGBM] [Info] Total Bins 680\n",
      "[LightGBM] [Info] Number of data points in the train set: 17393, number of used features: 192\n",
      "[LightGBM] [Info] Start training from score 100610.546082\n",
      "[LightGBM] [Info] Auto-choosing row-wise multi-threading, the overhead of testing was 0.000867 seconds.\n",
      "You can set `force_row_wise=true` to remove the overhead.\n",
      "And if memory is not enough, you can set `force_col_wise=true`.\n",
      "[LightGBM] [Info] Total Bins 708\n",
      "[LightGBM] [Info] Number of data points in the train set: 17393, number of used features: 205\n",
      "[LightGBM] [Info] Start training from score 97830.875927\n",
      "[LightGBM] [Info] Auto-choosing row-wise multi-threading, the overhead of testing was 0.001373 seconds.\n",
      "You can set `force_row_wise=true` to remove the overhead.\n",
      "And if memory is not enough, you can set `force_col_wise=true`.\n",
      "[LightGBM] [Info] Total Bins 715\n",
      "[LightGBM] [Info] Number of data points in the train set: 17393, number of used features: 210\n",
      "[LightGBM] [Info] Start training from score 97627.737193\n",
      "[LightGBM] [Info] Auto-choosing row-wise multi-threading, the overhead of testing was 0.001162 seconds.\n",
      "You can set `force_row_wise=true` to remove the overhead.\n",
      "And if memory is not enough, you can set `force_col_wise=true`.\n",
      "[LightGBM] [Info] Total Bins 700\n",
      "[LightGBM] [Info] Number of data points in the train set: 17393, number of used features: 201\n",
      "[LightGBM] [Info] Start training from score 100861.231242\n"
     ]
    },
    {
     "data": {
      "text/html": [
       "<div>\n",
       "<style scoped>\n",
       "    .dataframe tbody tr th:only-of-type {\n",
       "        vertical-align: middle;\n",
       "    }\n",
       "\n",
       "    .dataframe tbody tr th {\n",
       "        vertical-align: top;\n",
       "    }\n",
       "\n",
       "    .dataframe thead th {\n",
       "        text-align: right;\n",
       "    }\n",
       "</style>\n",
       "<table border=\"1\" class=\"dataframe\">\n",
       "  <thead>\n",
       "    <tr style=\"text-align: right;\">\n",
       "      <th></th>\n",
       "      <th>MAE</th>\n",
       "      <th>R2</th>\n",
       "      <th>training_time</th>\n",
       "    </tr>\n",
       "    <tr>\n",
       "      <th>model</th>\n",
       "      <th></th>\n",
       "      <th></th>\n",
       "      <th></th>\n",
       "    </tr>\n",
       "  </thead>\n",
       "  <tbody>\n",
       "    <tr>\n",
       "      <th>linear_regression</th>\n",
       "      <td>5.185139e+15</td>\n",
       "      <td>-3.725690e+19</td>\n",
       "      <td>0.131567</td>\n",
       "    </tr>\n",
       "    <tr>\n",
       "      <th>svm</th>\n",
       "      <td>7.413587e+04</td>\n",
       "      <td>-1.305029e+00</td>\n",
       "      <td>0.032922</td>\n",
       "    </tr>\n",
       "    <tr>\n",
       "      <th>random_forest</th>\n",
       "      <td>2.214644e+04</td>\n",
       "      <td>8.143026e-01</td>\n",
       "      <td>8.265191</td>\n",
       "    </tr>\n",
       "    <tr>\n",
       "      <th>gradient_boosted_rf</th>\n",
       "      <td>2.355963e+04</td>\n",
       "      <td>7.751672e-01</td>\n",
       "      <td>4.592427</td>\n",
       "    </tr>\n",
       "    <tr>\n",
       "      <th>xgboost</th>\n",
       "      <td>2.244718e+04</td>\n",
       "      <td>8.443880e-01</td>\n",
       "      <td>0.292673</td>\n",
       "    </tr>\n",
       "    <tr>\n",
       "      <th>lightgbm</th>\n",
       "      <td>2.347865e+04</td>\n",
       "      <td>7.740513e-01</td>\n",
       "      <td>0.254240</td>\n",
       "    </tr>\n",
       "  </tbody>\n",
       "</table>\n",
       "</div>"
      ],
      "text/plain": [
       "                              MAE            R2  training_time\n",
       "model                                                         \n",
       "linear_regression    5.185139e+15 -3.725690e+19       0.131567\n",
       "svm                  7.413587e+04 -1.305029e+00       0.032922\n",
       "random_forest        2.214644e+04  8.143026e-01       8.265191\n",
       "gradient_boosted_rf  2.355963e+04  7.751672e-01       4.592427\n",
       "xgboost              2.244718e+04  8.443880e-01       0.292673\n",
       "lightgbm             2.347865e+04  7.740513e-01       0.254240"
      ]
     },
     "execution_count": 13,
     "metadata": {},
     "output_type": "execute_result"
    }
   ],
   "source": [
    "X = df_outliers_removed.drop('price', axis=1)\n",
    "y = df_outliers_removed['price']\n",
    "\n",
    "# train_test_split\n",
    "from sklearn.model_selection import train_test_split\n",
    "X_train, X_test, y_train, y_test = train_test_split(X, y, train_size=0.2, random_state=0)\n",
    "\n",
    "# Training model\n",
    "results, cv_scores = train_models(models)\n",
    "\n",
    "# Convert the results to a DataFrame\n",
    "results_df = pd.DataFrame(results).set_index('model')\n",
    "\n",
    "# Display the DataFrame\n",
    "results_df"
   ]
  },
  {
   "cell_type": "markdown",
   "metadata": {},
   "source": [
    "It seems that outliers do significantly impact the models. The effect on our tree based models is that the error has halved with very significant improvements to the linear regression model."
   ]
  },
  {
   "cell_type": "markdown",
   "metadata": {},
   "source": [
    "Random Forrest seams to give the best results in terms of MAE but I will choose to go with XGBoost seeing as it is the second most accurate model with the best fit to the data and low training time."
   ]
  },
  {
   "cell_type": "markdown",
   "metadata": {},
   "source": [
    "### Feature Importance"
   ]
  },
  {
   "cell_type": "code",
   "execution_count": 16,
   "metadata": {},
   "outputs": [
    {
     "data": {
      "text/plain": [
       "20405.14815315378"
      ]
     },
     "execution_count": 16,
     "metadata": {},
     "output_type": "execute_result"
    }
   ],
   "source": [
    "pipeline = Pipeline(steps=[\n",
    "    ('preprocessor',preprocessor),\n",
    "    ('model',RandomForestRegressor())\n",
    "])\n",
    "\n",
    "pipeline.fit(X_train, y_train)\n",
    "\n",
    "y_pred = pipeline.predict(X_test)\n",
    "\n",
    "rf_cv_scores = cross_val_score(pipeline, X_train, y_train, cv=10, scoring='neg_mean_absolute_error')\n",
    "\n",
    "-rf_cv_scores.mean()"
   ]
  },
  {
   "cell_type": "code",
   "execution_count": 28,
   "metadata": {},
   "outputs": [],
   "source": [
    "# Extract the trained RandomForestRegressor from the pipeline\n",
    "model = pipeline.named_steps['model']\n",
    "\n",
    "# Get the feature importances from the RandomForestRegressor\n",
    "feature_importances = model.feature_importances_\n",
    "\n",
    "# Get the feature names from each transformer\n",
    "ohe = pipeline.named_steps['preprocessor'].named_transformers_['cat'].named_steps['onehot']\n",
    "ohe_feature_names = ohe.get_feature_names_out(categorical_features)\n",
    "\n",
    "preprocessed_feature_names = np.concatenate([\n",
    "    numerical_features,       # Numerical features\n",
    "    ohe_feature_names,        # One-hot encoded categorical features\n",
    "    binary_features           # Binary features\n",
    "])\n",
    "\n",
    "# Create a dataframe for better visualization\n",
    "\n",
    "feature_importances_df = pd.DataFrame({\n",
    "    'feature': preprocessed_feature_names,\n",
    "    'importance': feature_importances\n",
    "})\n",
    "\n",
    "# Sort by importance\n",
    "feature_importances_df = feature_importances_df.sort_values(by='importance', ascending=False)\n",
    "# print(feature_importances_df)"
   ]
  },
  {
   "cell_type": "markdown",
   "metadata": {},
   "source": [
    "Most important features"
   ]
  },
  {
   "cell_type": "code",
   "execution_count": 37,
   "metadata": {},
   "outputs": [
    {
     "data": {
      "text/plain": [
       "<Axes: ylabel='feature'>"
      ]
     },
     "execution_count": 37,
     "metadata": {},
     "output_type": "execute_result"
    },
    {
     "data": {
      "image/png": "[encoded data removed]",
      "text/plain": [
       "<Figure size 640x480 with 1 Axes>"
      ]
     },
     "metadata": {},
     "output_type": "display_data"
    }
   ],
   "source": [
    "feature_importances_df.head(15).plot(kind='barh', x='feature')"
   ]
  },
  {
   "cell_type": "markdown",
   "metadata": {},
   "source": [
    "Least important features"
   ]
  },
  {
   "cell_type": "code",
   "execution_count": 39,
   "metadata": {},
   "outputs": [
    {
     "data": {
      "text/plain": [
       "<Axes: ylabel='feature'>"
      ]
     },
     "execution_count": 39,
     "metadata": {},
     "output_type": "execute_result"
    },
    {
     "data": {
      "image/png": "[encoded data removed]",
      "text/plain": [
       "<Figure size 640x480 with 1 Axes>"
      ]
     },
     "metadata": {},
     "output_type": "display_data"
    }
   ],
   "source": [
    "feature_importances_df.tail(20).plot(kind='barh', x='feature')"
   ]
  },
  {
   "cell_type": "markdown",
   "metadata": {},
   "source": [
    "SVM definetly is a terrible fit so no point in moving forward with that."
   ]
  },
  {
   "cell_type": "code",
   "execution_count": 13,
   "metadata": {},
   "outputs": [
    {
     "data": {
      "text/plain": [
       "<Axes: >"
      ]
     },
     "execution_count": 13,
     "metadata": {},
     "output_type": "execute_result"
    },
    {
     "data": {
      "image/png": "[encoded data removed]",
      "text/plain": [
       "<Figure size 640x480 with 1 Axes>"
      ]
     },
     "metadata": {},
     "output_type": "display_data"
    }
   ],
   "source": [
    "model_training = pd.DataFrame(cv_scores).iloc[:,1:]\n",
    "model_training.plot(kind='line')"
   ]
  },
  {
   "cell_type": "markdown",
   "metadata": {},
   "source": [
    "# 4. Model Tuning"
   ]
  },
  {
   "cell_type": "markdown",
   "metadata": {},
   "source": [
    "**Selected Model:** XGBoost"
   ]
  },
  {
   "cell_type": "markdown",
   "metadata": {},
   "source": [
    "**Choice of parameter to tune:** https://docs.aws.amazon.com/sagemaker/latest/dg/xgboost-tuning.html#:~:text=Tune%20the%20XGBoost%20model%20with%20the%20following%20hyperparameters.,metrics%20are%3A%20alpha%2C%20min_child_weight%2C%20subsample%2C%20eta%2C%20and%20num_round."
   ]
  },
  {
   "cell_type": "code",
   "execution_count": 18,
   "metadata": {},
   "outputs": [
    {
     "name": "stdout",
     "output_type": "stream",
     "text": [
      "Best parameters:  {'model__learning_rate': 0.3, 'model__min_child_weight': 0.1, 'model__reg_alpha': 0.1, 'model__subsample': 0.3}\n",
      "Best score:  -21816.760724295433\n"
     ]
    }
   ],
   "source": [
    "from sklearn.model_selection import GridSearchCV\n",
    "\n",
    "pipeline = Pipeline(steps=[\n",
    "    ('preprocessor', preprocessor),\n",
    "    ('model', xgb.XGBRegressor())\n",
    "])\n",
    "\n",
    "param_grid = {\n",
    "    'model__reg_alpha':[0.1,0.5,1,1.5,2],\n",
    "    'model__min_child_weight':[0.1,0.5,1,3,6,9],\n",
    "    'model__subsample':[0.05,0.1,0.15,0.2,0.3],\n",
    "    'model__learning_rate':[0.01,0.1,0.3,0.5,0.8],\n",
    "}\n",
    "\n",
    "gs = GridSearchCV(\n",
    "    pipeline,\n",
    "    param_grid=param_grid,\n",
    "    cv=5,\n",
    "    scoring='neg_mean_absolute_error'\n",
    ")\n",
    "\n",
    "gs.fit(X_train, y_train)\n",
    "\n",
    "print(\"Best parameters: \", gs.best_params_)\n",
    "print(\"Best score: \", gs.best_score_)"
   ]
  },
  {
   "cell_type": "markdown",
   "metadata": {},
   "source": [
    "Tuning doesn't improve the model too sinificantly."
   ]
  },
  {
   "cell_type": "markdown",
   "metadata": {},
   "source": [
    "# ANNEX 1. Ensemble Model"
   ]
  },
  {
   "cell_type": "markdown",
   "metadata": {},
   "source": [
    "Lets try building an ensemble model where we train the data for luxury and non-luxury cars separately and use each model to predict prices of cars for that section."
   ]
  },
  {
   "cell_type": "markdown",
   "metadata": {},
   "source": [
    "### Luxury Data set model training"
   ]
  },
  {
   "cell_type": "code",
   "execution_count": 15,
   "metadata": {},
   "outputs": [
    {
     "data": {
      "text/plain": [
       "18633.275643234232"
      ]
     },
     "execution_count": 15,
     "metadata": {},
     "output_type": "execute_result"
    }
   ],
   "source": [
    "from sklearn.model_selection import GridSearchCV\n",
    "from joblib import dump\n",
    "\n",
    "pipeline = Pipeline(steps=[\n",
    "    ('preprocessor', preprocessor),\n",
    "    ('model', xgb.XGBRegressor(learning_rate=0.3, min_child_weight=0.1, reg_alpha=0.1, subsample=0.3))\n",
    "])\n",
    "\n",
    "luxury = df_outliers_removed[df_outliers_removed['luxury'] == 1]\n",
    "\n",
    "X = luxury.drop(['price','num_of_pic','steering_side'],axis=1)\n",
    "y = luxury['price']\n",
    "\n",
    "pipeline.fit(X, y)\n",
    "\n",
    "# save model\n",
    "# dump(pipeline, 'models/luxury_model.pkl')\n",
    "\n",
    "# Perform k-fold cross-validation\n",
    "cv_score = cross_val_score(pipeline, X, y, cv=10, scoring='neg_mean_absolute_error')\n",
    "\n",
    "-cv_score.mean()\n"
   ]
  },
  {
   "cell_type": "markdown",
   "metadata": {},
   "source": [
    "### Non-Luxury data set model training"
   ]
  },
  {
   "cell_type": "code",
   "execution_count": 16,
   "metadata": {},
   "outputs": [
    {
     "data": {
      "text/plain": [
       "22359.98635155724"
      ]
     },
     "execution_count": 16,
     "metadata": {},
     "output_type": "execute_result"
    }
   ],
   "source": [
    "from sklearn.model_selection import GridSearchCV\n",
    "\n",
    "pipeline = Pipeline(steps=[\n",
    "    ('preprocessor', preprocessor),\n",
    "    ('model', xgb.XGBRegressor(learning_rate=0.3, min_child_weight=0.1, reg_alpha=0.1, subsample=0.3))\n",
    "])\n",
    "\n",
    "non_luxury = df_outliers_removed[df_outliers_removed['luxury'] == 0]\n",
    "\n",
    "X = non_luxury.drop(['price','num_of_pic','steering_side'],axis=1)\n",
    "y = non_luxury['price']\n",
    "\n",
    "pipeline.fit(X, y)\n",
    "\n",
    "# save model\n",
    "# dump(pipeline, 'models/non_luxury_model.pkl')\n",
    "\n",
    "# Perform k-fold cross-validation\n",
    "cv_score = cross_val_score(pipeline, X, y, cv=10, scoring='neg_mean_absolute_error')\n",
    "\n",
    "-cv_score.mean()"
   ]
  },
  {
   "cell_type": "markdown",
   "metadata": {},
   "source": [
    "Models improved quite a bit after removing the number of pictures column but nearly no change when removing steering side as it is heavily imbalanced towards left hand steering."
   ]
  },
  {
   "cell_type": "markdown",
   "metadata": {},
   "source": [
    "### Feature Importance"
   ]
  },
  {
   "cell_type": "code",
   "execution_count": 24,
   "metadata": {},
   "outputs": [
    {
     "ename": "AttributeError",
     "evalue": "'Pipeline' object has no attribute 'feature_importances'",
     "output_type": "error",
     "traceback": [
      "\u001b[1;31m---------------------------------------------------------------------------\u001b[0m",
      "\u001b[1;31mAttributeError\u001b[0m                            Traceback (most recent call last)",
      "Cell \u001b[1;32mIn[24], line 1\u001b[0m\n\u001b[1;32m----> 1\u001b[0m \u001b[43mpipeline\u001b[49m\u001b[38;5;241;43m.\u001b[39;49m\u001b[43mfeature_importances\u001b[49m\n",
      "\u001b[1;31mAttributeError\u001b[0m: 'Pipeline' object has no attribute 'feature_importances'"
     ]
    }
   ],
   "source": [
    "pipeline.feature_importances"
   ]
  },
  {
   "cell_type": "markdown",
   "metadata": {},
   "source": [
    "The way to make predictions is that the model expects a dataframe and can give multiple predictions at a time."
   ]
  },
  {
   "cell_type": "code",
   "execution_count": 28,
   "metadata": {},
   "outputs": [
    {
     "data": {
      "text/plain": [
       "array([161687.2  , 186852.31 ,  47359.734, 152278.16 , 210384.83 ],\n",
       "      dtype=float32)"
      ]
     },
     "execution_count": 28,
     "metadata": {},
     "output_type": "execute_result"
    }
   ],
   "source": [
    "pipeline.predict(non_luxury.head(5))"
   ]
  },
  {
   "cell_type": "code",
   "execution_count": 30,
   "metadata": {},
   "outputs": [
    {
     "data": {
      "text/html": [
       "<div>\n",
       "<style scoped>\n",
       "    .dataframe tbody tr th:only-of-type {\n",
       "        vertical-align: middle;\n",
       "    }\n",
       "\n",
       "    .dataframe tbody tr th {\n",
       "        vertical-align: top;\n",
       "    }\n",
       "\n",
       "    .dataframe thead th {\n",
       "        text-align: right;\n",
       "    }\n",
       "</style>\n",
       "<table border=\"1\" class=\"dataframe\">\n",
       "  <thead>\n",
       "    <tr style=\"text-align: right;\">\n",
       "      <th></th>\n",
       "      <th>num_of_pic</th>\n",
       "      <th>price</th>\n",
       "      <th>brand</th>\n",
       "      <th>model</th>\n",
       "      <th>km</th>\n",
       "      <th>steering_side</th>\n",
       "      <th>region_specs</th>\n",
       "      <th>location_cleaned</th>\n",
       "      <th>warranty</th>\n",
       "      <th>service_hist</th>\n",
       "      <th>no_accident</th>\n",
       "      <th>luxury</th>\n",
       "      <th>age</th>\n",
       "    </tr>\n",
       "  </thead>\n",
       "  <tbody>\n",
       "    <tr>\n",
       "      <th>0</th>\n",
       "      <td>17</td>\n",
       "      <td>159000</td>\n",
       "      <td>Ford</td>\n",
       "      <td>F-Series Pickup</td>\n",
       "      <td>107000</td>\n",
       "      <td>Left Hand</td>\n",
       "      <td>GCC Specs</td>\n",
       "      <td>Dubai</td>\n",
       "      <td>False</td>\n",
       "      <td>True</td>\n",
       "      <td>False</td>\n",
       "      <td>0</td>\n",
       "      <td>6</td>\n",
       "    </tr>\n",
       "    <tr>\n",
       "      <th>1</th>\n",
       "      <td>18</td>\n",
       "      <td>276000</td>\n",
       "      <td>Ford</td>\n",
       "      <td>Mustang</td>\n",
       "      <td>2000</td>\n",
       "      <td>Left Hand</td>\n",
       "      <td>American Specs</td>\n",
       "      <td>Sharjah</td>\n",
       "      <td>True</td>\n",
       "      <td>False</td>\n",
       "      <td>False</td>\n",
       "      <td>0</td>\n",
       "      <td>3</td>\n",
       "    </tr>\n",
       "    <tr>\n",
       "      <th>2</th>\n",
       "      <td>19</td>\n",
       "      <td>62500</td>\n",
       "      <td>Ford</td>\n",
       "      <td>Edge</td>\n",
       "      <td>79000</td>\n",
       "      <td>Left Hand</td>\n",
       "      <td>GCC Specs</td>\n",
       "      <td>Dubai</td>\n",
       "      <td>False</td>\n",
       "      <td>True</td>\n",
       "      <td>False</td>\n",
       "      <td>0</td>\n",
       "      <td>8</td>\n",
       "    </tr>\n",
       "    <tr>\n",
       "      <th>3</th>\n",
       "      <td>19</td>\n",
       "      <td>169000</td>\n",
       "      <td>Ford</td>\n",
       "      <td>Mustang</td>\n",
       "      <td>55000</td>\n",
       "      <td>Left Hand</td>\n",
       "      <td>GCC Specs</td>\n",
       "      <td>Dubai</td>\n",
       "      <td>True</td>\n",
       "      <td>True</td>\n",
       "      <td>False</td>\n",
       "      <td>0</td>\n",
       "      <td>4</td>\n",
       "    </tr>\n",
       "    <tr>\n",
       "      <th>4</th>\n",
       "      <td>19</td>\n",
       "      <td>209000</td>\n",
       "      <td>Ford</td>\n",
       "      <td>Mustang</td>\n",
       "      <td>29000</td>\n",
       "      <td>Left Hand</td>\n",
       "      <td>GCC Specs</td>\n",
       "      <td>Dubai</td>\n",
       "      <td>True</td>\n",
       "      <td>True</td>\n",
       "      <td>False</td>\n",
       "      <td>0</td>\n",
       "      <td>1</td>\n",
       "    </tr>\n",
       "  </tbody>\n",
       "</table>\n",
       "</div>"
      ],
      "text/plain": [
       "   num_of_pic   price brand            model      km steering_side  \\\n",
       "0          17  159000  Ford  F-Series Pickup  107000     Left Hand   \n",
       "1          18  276000  Ford          Mustang    2000     Left Hand   \n",
       "2          19   62500  Ford             Edge   79000     Left Hand   \n",
       "3          19  169000  Ford          Mustang   55000     Left Hand   \n",
       "4          19  209000  Ford          Mustang   29000     Left Hand   \n",
       "\n",
       "     region_specs location_cleaned  warranty  service_hist  no_accident  \\\n",
       "0       GCC Specs            Dubai     False          True        False   \n",
       "1  American Specs          Sharjah      True         False        False   \n",
       "2       GCC Specs            Dubai     False          True        False   \n",
       "3       GCC Specs            Dubai      True          True        False   \n",
       "4       GCC Specs            Dubai      True          True        False   \n",
       "\n",
       "   luxury  age  \n",
       "0       0    6  \n",
       "1       0    3  \n",
       "2       0    8  \n",
       "3       0    4  \n",
       "4       0    1  "
      ]
     },
     "execution_count": 30,
     "metadata": {},
     "output_type": "execute_result"
    }
   ],
   "source": [
    "non_luxury.head(5)"
   ]
  },
  {
   "cell_type": "code",
   "execution_count": 52,
   "metadata": {},
   "outputs": [
    {
     "data": {
      "text/plain": [
       "2024"
      ]
     },
     "execution_count": 52,
     "metadata": {},
     "output_type": "execute_result"
    }
   ],
   "source": [
    "datetime.now().year"
   ]
  },
  {
   "cell_type": "code",
   "execution_count": 53,
   "metadata": {},
   "outputs": [
    {
     "data": {
      "text/plain": [
       "num_of_pic           int64\n",
       "price                int64\n",
       "brand               object\n",
       "model               object\n",
       "km                   int64\n",
       "steering_side       object\n",
       "region_specs        object\n",
       "location_cleaned    object\n",
       "warranty              bool\n",
       "service_hist          bool\n",
       "no_accident           bool\n",
       "luxury               int64\n",
       "age                  int64\n",
       "dtype: object"
      ]
     },
     "execution_count": 53,
     "metadata": {},
     "output_type": "execute_result"
    }
   ],
   "source": [
    "luxury.dtypes"
   ]
  },
  {
   "cell_type": "markdown",
   "metadata": {},
   "source": [
    "# Annex 2. Fine Tuning Feature Selection"
   ]
  },
  {
   "cell_type": "markdown",
   "metadata": {},
   "source": [
    "I'm going to use feature elimination to try and remove features which are useless for better accuracy."
   ]
  },
  {
   "cell_type": "code",
   "execution_count": 68,
   "metadata": {},
   "outputs": [],
   "source": [
    "# Preprocessing piepline\n",
    "from sklearn.compose import ColumnTransformer\n",
    "from sklearn.impute import SimpleImputer\n",
    "from sklearn.pipeline import Pipeline\n",
    "from sklearn.preprocessing import OneHotEncoder, StandardScaler\n",
    "\n",
    "# Define feature columns\n",
    "categorical_features = ['brand','region_specs','location_cleaned','model']\n",
    "numerical_features = ['km','age']\n",
    "# binary_features = ['luxury']\n",
    "\n",
    "# Preprocessing pipelines\n",
    "categorical_transformer = Pipeline(steps=[\n",
    "    ('imputer', SimpleImputer(strategy='constant', fill_value='missing')),\n",
    "    ('onehot', OneHotEncoder(handle_unknown='ignore', sparse_output=False))\n",
    "])\n",
    "\n",
    "numerical_transformer = Pipeline(steps=[\n",
    "    ('imputer', SimpleImputer(strategy='mean'))\n",
    "    # ('scaler', StandardScaler())\n",
    "])\n",
    "\n",
    "# binary_transformer = Pipeline(steps=[\n",
    "#     ('imputer', SimpleImputer(strategy='constant', fill_value=False))\n",
    "# ])\n",
    "\n",
    "# Column transformer\n",
    "preprocessor = ColumnTransformer(\n",
    "    transformers=[\n",
    "        ('num', numerical_transformer, numerical_features),\n",
    "        ('cat', categorical_transformer, categorical_features)\n",
    "        # ('bin', binary_transformer, binary_features)\n",
    "    ])"
   ]
  },
  {
   "cell_type": "code",
   "execution_count": 69,
   "metadata": {},
   "outputs": [
    {
     "data": {
      "text/plain": [
       "18495.448015609287"
      ]
     },
     "execution_count": 69,
     "metadata": {},
     "output_type": "execute_result"
    }
   ],
   "source": [
    "from sklearn.model_selection import GridSearchCV\n",
    "from joblib import dump\n",
    "\n",
    "pipeline = Pipeline(steps=[\n",
    "    ('preprocessor', preprocessor),\n",
    "    ('model', xgb.XGBRegressor(learning_rate=0.3, min_child_weight=0.1, reg_alpha=0.1, subsample=0.3))\n",
    "])\n",
    "\n",
    "luxury = df_outliers_removed[df_outliers_removed['luxury'] == 1]\n",
    "\n",
    "X = luxury.drop(['price','num_of_pic','steering_side','no_accident','service_hist','warranty','luxury'],axis=1)\n",
    "y = luxury['price']\n",
    "\n",
    "pipeline.fit(X, y)\n",
    "\n",
    "# save model\n",
    "# dump(pipeline, 'models/luxury_model.pkl')\n",
    "\n",
    "# Perform k-fold cross-validation\n",
    "cv_score = cross_val_score(pipeline, X, y, cv=10, scoring='neg_mean_absolute_error')\n",
    "\n",
    "-cv_score.mean()\n"
   ]
  },
  {
   "cell_type": "code",
   "execution_count": 70,
   "metadata": {},
   "outputs": [
    {
     "data": {
      "text/plain": [
       "22300.642114996048"
      ]
     },
     "execution_count": 70,
     "metadata": {},
     "output_type": "execute_result"
    }
   ],
   "source": [
    "from sklearn.model_selection import GridSearchCV\n",
    "from joblib import dump\n",
    "\n",
    "pipeline = Pipeline(steps=[\n",
    "    ('preprocessor', preprocessor),\n",
    "    ('model', xgb.XGBRegressor(learning_rate=0.3, min_child_weight=0.1, reg_alpha=0.1, subsample=0.3))\n",
    "])\n",
    "\n",
    "non_luxury = df_outliers_removed[df_outliers_removed['luxury'] == 0]\n",
    "\n",
    "X = non_luxury.drop(['price','num_of_pic','steering_side','no_accident','service_hist','warranty','luxury'],axis=1)\n",
    "y = non_luxury['price']\n",
    "\n",
    "pipeline.fit(X, y)\n",
    "\n",
    "# save model\n",
    "# dump(pipeline, 'models/luxury_model.pkl')\n",
    "\n",
    "# Perform k-fold cross-validation\n",
    "cv_score = cross_val_score(pipeline, X, y, cv=10, scoring='neg_mean_absolute_error')\n",
    "\n",
    "-cv_score.mean()\n"
   ]
  },
  {
   "cell_type": "markdown",
   "metadata": {},
   "source": []
  },
  {
   "cell_type": "code",
   "execution_count": null,
   "metadata": {},
   "outputs": [],
   "source": []
  }
 ],
 "metadata": {
  "kernelspec": {
   "display_name": "carvalueproj",
   "language": "python",
   "name": "python3"
  },
  "language_info": {
   "codemirror_mode": {
    "name": "ipython",
    "version": 3
   },
   "file_extension": ".py",
   "mimetype": "text/x-python",
   "name": "python",
   "nbconvert_exporter": "python",
   "pygments_lexer": "ipython3",
   "version": "3.8.5"
  }
 },
 "nbformat": 4,
 "nbformat_minor": 2
}
