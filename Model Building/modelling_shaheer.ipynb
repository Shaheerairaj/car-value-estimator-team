{
 "cells": [
  {
   "cell_type": "code",
   "execution_count": 1,
   "metadata": {},
   "outputs": [],
   "source": [
    "import pandas as pd\n",
    "import numpy as np"
   ]
  },
  {
   "cell_type": "markdown",
   "metadata": {},
   "source": [
    "# 1. Data Preprocessing and Feature Engineering"
   ]
  },
  {
   "cell_type": "markdown",
   "metadata": {},
   "source": [
    "## Clean and Prepare"
   ]
  },
  {
   "cell_type": "code",
   "execution_count": 2,
   "metadata": {},
   "outputs": [],
   "source": [
    "df = pd.read_csv('../data/ads_all_cleaned.csv')"
   ]
  },
  {
   "cell_type": "markdown",
   "metadata": {},
   "source": [
    "### Missing Values"
   ]
  },
  {
   "cell_type": "markdown",
   "metadata": {},
   "source": [
    "One missing value in title which we will ignore"
   ]
  },
  {
   "cell_type": "code",
   "execution_count": 3,
   "metadata": {},
   "outputs": [
    {
     "data": {
      "text/plain": [
       "id                  0\n",
       "num_of_pic          0\n",
       "price               0\n",
       "brand               0\n",
       "model               0\n",
       "title               1\n",
       "year                0\n",
       "km                  0\n",
       "steering_side       0\n",
       "region_specs        0\n",
       "location            0\n",
       "location_cleaned    0\n",
       "dtype: int64"
      ]
     },
     "execution_count": 3,
     "metadata": {},
     "output_type": "execute_result"
    }
   ],
   "source": [
    "df.isnull().sum()"
   ]
  },
  {
   "cell_type": "markdown",
   "metadata": {},
   "source": [
    "### Outliers"
   ]
  },
  {
   "cell_type": "markdown",
   "metadata": {},
   "source": [
    "I will choose to keep outliers."
   ]
  },
  {
   "cell_type": "markdown",
   "metadata": {},
   "source": [
    "## Feature Engineering"
   ]
  },
  {
   "cell_type": "markdown",
   "metadata": {},
   "source": [
    "Below is the wordcloud that was generated in the data analysis phase in the ads_all_after_cleaning.html report"
   ]
  },
  {
   "cell_type": "markdown",
   "metadata": {},
   "source": [
    "Some of the more common words which could be useful are **warranty**, **accident** (to determine ads where there is specific mention that the car is accident free), **service** (to indicate a full service history) "
   ]
  },
  {
   "cell_type": "markdown",
   "metadata": {},
   "source": [
    "![wordcloud](../data/title-column-wordcloud.png)"
   ]
  },
  {
   "cell_type": "code",
   "execution_count": 4,
   "metadata": {},
   "outputs": [],
   "source": [
    "# Feature Engineering\n",
    "df['warranty'] = df['title'].apply(lambda x: True if 'warranty' in str(x).lower() else False)\n",
    "df['service_hist'] = df['title'].apply(lambda x: True if 'service' in str(x).lower() else False)\n",
    "df['no_accident'] = df['title'].apply(lambda x: True if 'accident' in str(x).lower() else False)\n",
    "\n",
    "luxury_brands = ['mercedez-benz','lexus','bmw','audi']\n",
    "df['luxury'] = df['brand'].apply(lambda x: 1 if x.lower() in luxury_brands else 0)\n",
    "\n",
    "df['age'] = 2024 - df['year']\n",
    "\n",
    "df.drop(['id','title','year','location'], axis=1, inplace=True)\n"
   ]
  },
  {
   "cell_type": "markdown",
   "metadata": {},
   "source": [
    "## Data Preprocessing"
   ]
  },
  {
   "cell_type": "code",
   "execution_count": 16,
   "metadata": {},
   "outputs": [],
   "source": [
    "from sklearn.compose import ColumnTransformer\n",
    "from sklearn.impute import SimpleImputer\n",
    "from sklearn.pipeline import Pipeline\n",
    "from sklearn.preprocessing import OneHotEncoder, StandardScaler\n",
    "\n",
    "# Define feature columns\n",
    "categorical_features = ['brand','model','steering_side','region_specs','location_cleaned']\n",
    "numerical_features = ['km','age','num_of_pic']\n",
    "binary_features = ['warranty', 'service_hist', 'no_accident','luxury']\n",
    "\n",
    "# Preprocessing pipelines\n",
    "categorical_transformer = Pipeline(steps=[\n",
    "    ('imputer', SimpleImputer(strategy='constant', fill_value='missing')),\n",
    "    ('onehot', OneHotEncoder(handle_unknown='ignore', sparse_output=False))\n",
    "])\n",
    "\n",
    "numerical_transformer = Pipeline(steps=[\n",
    "    ('imputer', SimpleImputer(strategy='mean')),\n",
    "    ('scaler', StandardScaler())\n",
    "])\n",
    "\n",
    "binary_transformer = Pipeline(steps=[\n",
    "    ('imputer', SimpleImputer(strategy='constant', fill_value=False))\n",
    "])\n",
    "\n",
    "# Column transformer\n",
    "preprocessor = ColumnTransformer(\n",
    "    transformers=[\n",
    "        ('num', numerical_transformer, numerical_features),\n",
    "        ('cat', categorical_transformer, categorical_features),\n",
    "        ('bin', binary_transformer, binary_features)\n",
    "    ])"
   ]
  },
  {
   "cell_type": "code",
   "execution_count": 17,
   "metadata": {},
   "outputs": [],
   "source": [
    "X = df.drop('price', axis=1)\n",
    "y = df['price']"
   ]
  },
  {
   "cell_type": "code",
   "execution_count": 18,
   "metadata": {},
   "outputs": [
    {
     "data": {
      "text/html": [
       "<div>\n",
       "<style scoped>\n",
       "    .dataframe tbody tr th:only-of-type {\n",
       "        vertical-align: middle;\n",
       "    }\n",
       "\n",
       "    .dataframe tbody tr th {\n",
       "        vertical-align: top;\n",
       "    }\n",
       "\n",
       "    .dataframe thead th {\n",
       "        text-align: right;\n",
       "    }\n",
       "</style>\n",
       "<table border=\"1\" class=\"dataframe\">\n",
       "  <thead>\n",
       "    <tr style=\"text-align: right;\">\n",
       "      <th></th>\n",
       "      <th>num_of_pic</th>\n",
       "      <th>brand</th>\n",
       "      <th>model</th>\n",
       "      <th>km</th>\n",
       "      <th>steering_side</th>\n",
       "      <th>region_specs</th>\n",
       "      <th>location_cleaned</th>\n",
       "      <th>warranty</th>\n",
       "      <th>service_hist</th>\n",
       "      <th>no_accident</th>\n",
       "      <th>luxury</th>\n",
       "      <th>age</th>\n",
       "    </tr>\n",
       "  </thead>\n",
       "  <tbody>\n",
       "    <tr>\n",
       "      <th>0</th>\n",
       "      <td>17</td>\n",
       "      <td>Ford</td>\n",
       "      <td>F-Series Pickup</td>\n",
       "      <td>107000</td>\n",
       "      <td>Left Hand</td>\n",
       "      <td>GCC Specs</td>\n",
       "      <td>Dubai</td>\n",
       "      <td>False</td>\n",
       "      <td>True</td>\n",
       "      <td>False</td>\n",
       "      <td>0</td>\n",
       "      <td>6</td>\n",
       "    </tr>\n",
       "    <tr>\n",
       "      <th>1</th>\n",
       "      <td>18</td>\n",
       "      <td>Ford</td>\n",
       "      <td>Mustang</td>\n",
       "      <td>2000</td>\n",
       "      <td>Left Hand</td>\n",
       "      <td>American Specs</td>\n",
       "      <td>Sharjah</td>\n",
       "      <td>True</td>\n",
       "      <td>False</td>\n",
       "      <td>False</td>\n",
       "      <td>0</td>\n",
       "      <td>3</td>\n",
       "    </tr>\n",
       "    <tr>\n",
       "      <th>2</th>\n",
       "      <td>19</td>\n",
       "      <td>Ford</td>\n",
       "      <td>Edge</td>\n",
       "      <td>79000</td>\n",
       "      <td>Left Hand</td>\n",
       "      <td>GCC Specs</td>\n",
       "      <td>Dubai</td>\n",
       "      <td>False</td>\n",
       "      <td>True</td>\n",
       "      <td>False</td>\n",
       "      <td>0</td>\n",
       "      <td>8</td>\n",
       "    </tr>\n",
       "    <tr>\n",
       "      <th>3</th>\n",
       "      <td>19</td>\n",
       "      <td>Ford</td>\n",
       "      <td>Mustang</td>\n",
       "      <td>55000</td>\n",
       "      <td>Left Hand</td>\n",
       "      <td>GCC Specs</td>\n",
       "      <td>Dubai</td>\n",
       "      <td>True</td>\n",
       "      <td>True</td>\n",
       "      <td>False</td>\n",
       "      <td>0</td>\n",
       "      <td>4</td>\n",
       "    </tr>\n",
       "    <tr>\n",
       "      <th>4</th>\n",
       "      <td>19</td>\n",
       "      <td>Ford</td>\n",
       "      <td>Mustang</td>\n",
       "      <td>29000</td>\n",
       "      <td>Left Hand</td>\n",
       "      <td>GCC Specs</td>\n",
       "      <td>Dubai</td>\n",
       "      <td>True</td>\n",
       "      <td>True</td>\n",
       "      <td>False</td>\n",
       "      <td>0</td>\n",
       "      <td>1</td>\n",
       "    </tr>\n",
       "    <tr>\n",
       "      <th>...</th>\n",
       "      <td>...</td>\n",
       "      <td>...</td>\n",
       "      <td>...</td>\n",
       "      <td>...</td>\n",
       "      <td>...</td>\n",
       "      <td>...</td>\n",
       "      <td>...</td>\n",
       "      <td>...</td>\n",
       "      <td>...</td>\n",
       "      <td>...</td>\n",
       "      <td>...</td>\n",
       "      <td>...</td>\n",
       "    </tr>\n",
       "    <tr>\n",
       "      <th>20867</th>\n",
       "      <td>20</td>\n",
       "      <td>Volkswagen</td>\n",
       "      <td>Passat</td>\n",
       "      <td>107624</td>\n",
       "      <td>Left Hand</td>\n",
       "      <td>GCC Specs</td>\n",
       "      <td>Dubai</td>\n",
       "      <td>False</td>\n",
       "      <td>True</td>\n",
       "      <td>False</td>\n",
       "      <td>0</td>\n",
       "      <td>10</td>\n",
       "    </tr>\n",
       "    <tr>\n",
       "      <th>20868</th>\n",
       "      <td>17</td>\n",
       "      <td>Volkswagen</td>\n",
       "      <td>Tiguan</td>\n",
       "      <td>0</td>\n",
       "      <td>Left Hand</td>\n",
       "      <td>Chinese Specs</td>\n",
       "      <td>Dubai</td>\n",
       "      <td>False</td>\n",
       "      <td>False</td>\n",
       "      <td>False</td>\n",
       "      <td>0</td>\n",
       "      <td>1</td>\n",
       "    </tr>\n",
       "    <tr>\n",
       "      <th>20869</th>\n",
       "      <td>17</td>\n",
       "      <td>Volkswagen</td>\n",
       "      <td>Transporter</td>\n",
       "      <td>0</td>\n",
       "      <td>Left Hand</td>\n",
       "      <td>GCC Specs</td>\n",
       "      <td>Dubai</td>\n",
       "      <td>False</td>\n",
       "      <td>False</td>\n",
       "      <td>False</td>\n",
       "      <td>0</td>\n",
       "      <td>5</td>\n",
       "    </tr>\n",
       "    <tr>\n",
       "      <th>20870</th>\n",
       "      <td>17</td>\n",
       "      <td>Volkswagen</td>\n",
       "      <td>Touareg</td>\n",
       "      <td>54300</td>\n",
       "      <td>Left Hand</td>\n",
       "      <td>GCC Specs</td>\n",
       "      <td>Dubai</td>\n",
       "      <td>False</td>\n",
       "      <td>False</td>\n",
       "      <td>False</td>\n",
       "      <td>0</td>\n",
       "      <td>3</td>\n",
       "    </tr>\n",
       "    <tr>\n",
       "      <th>20871</th>\n",
       "      <td>15</td>\n",
       "      <td>Volkswagen</td>\n",
       "      <td>GTI</td>\n",
       "      <td>149000</td>\n",
       "      <td>Left Hand</td>\n",
       "      <td>GCC Specs</td>\n",
       "      <td>Dubai</td>\n",
       "      <td>False</td>\n",
       "      <td>False</td>\n",
       "      <td>False</td>\n",
       "      <td>0</td>\n",
       "      <td>8</td>\n",
       "    </tr>\n",
       "  </tbody>\n",
       "</table>\n",
       "<p>20872 rows × 12 columns</p>\n",
       "</div>"
      ],
      "text/plain": [
       "       num_of_pic       brand            model      km steering_side  \\\n",
       "0              17        Ford  F-Series Pickup  107000     Left Hand   \n",
       "1              18        Ford          Mustang    2000     Left Hand   \n",
       "2              19        Ford             Edge   79000     Left Hand   \n",
       "3              19        Ford          Mustang   55000     Left Hand   \n",
       "4              19        Ford          Mustang   29000     Left Hand   \n",
       "...           ...         ...              ...     ...           ...   \n",
       "20867          20  Volkswagen           Passat  107624     Left Hand   \n",
       "20868          17  Volkswagen           Tiguan       0     Left Hand   \n",
       "20869          17  Volkswagen      Transporter       0     Left Hand   \n",
       "20870          17  Volkswagen          Touareg   54300     Left Hand   \n",
       "20871          15  Volkswagen              GTI  149000     Left Hand   \n",
       "\n",
       "         region_specs location_cleaned  warranty  service_hist  no_accident  \\\n",
       "0           GCC Specs            Dubai     False          True        False   \n",
       "1      American Specs          Sharjah      True         False        False   \n",
       "2           GCC Specs            Dubai     False          True        False   \n",
       "3           GCC Specs            Dubai      True          True        False   \n",
       "4           GCC Specs            Dubai      True          True        False   \n",
       "...               ...              ...       ...           ...          ...   \n",
       "20867       GCC Specs            Dubai     False          True        False   \n",
       "20868   Chinese Specs            Dubai     False         False        False   \n",
       "20869       GCC Specs            Dubai     False         False        False   \n",
       "20870       GCC Specs            Dubai     False         False        False   \n",
       "20871       GCC Specs            Dubai     False         False        False   \n",
       "\n",
       "       luxury  age  \n",
       "0           0    6  \n",
       "1           0    3  \n",
       "2           0    8  \n",
       "3           0    4  \n",
       "4           0    1  \n",
       "...       ...  ...  \n",
       "20867       0   10  \n",
       "20868       0    1  \n",
       "20869       0    5  \n",
       "20870       0    3  \n",
       "20871       0    8  \n",
       "\n",
       "[20872 rows x 12 columns]"
      ]
     },
     "execution_count": 18,
     "metadata": {},
     "output_type": "execute_result"
    }
   ],
   "source": [
    "X"
   ]
  },
  {
   "cell_type": "code",
   "execution_count": 19,
   "metadata": {},
   "outputs": [
    {
     "data": {
      "text/plain": [
       "0        159000\n",
       "1        276000\n",
       "2         62500\n",
       "3        169000\n",
       "4        209000\n",
       "          ...  \n",
       "20867     26000\n",
       "20868    110000\n",
       "20869     79000\n",
       "20870    185000\n",
       "20871     57000\n",
       "Name: price, Length: 20872, dtype: int64"
      ]
     },
     "execution_count": 19,
     "metadata": {},
     "output_type": "execute_result"
    }
   ],
   "source": [
    "y"
   ]
  },
  {
   "cell_type": "code",
   "execution_count": 20,
   "metadata": {},
   "outputs": [],
   "source": [
    "# train_test_split\n",
    "from sklearn.model_selection import train_test_split\n",
    "X_train, X_test, y_train, y_test = train_test_split(X, y, train_size=0.2, random_state=0)"
   ]
  },
  {
   "cell_type": "markdown",
   "metadata": {},
   "source": [
    "2. Model Selection and Evaluation"
   ]
  },
  {
   "cell_type": "code",
   "execution_count": 21,
   "metadata": {},
   "outputs": [
    {
     "name": "stderr",
     "output_type": "stream",
     "text": [
      "c:\\Users\\FR6201\\OneDrive - ENGIE\\Documents\\Projects\\car-value-estimator-team\\carvalueproj\\lib\\site-packages\\sklearn\\svm\\_classes.py:32: FutureWarning: The default value of `dual` will change from `True` to `'auto'` in 1.5. Set the value of `dual` explicitly to suppress the warning.\n",
      "  warnings.warn(\n"
     ]
    },
    {
     "name": "stdout",
     "output_type": "stream",
     "text": [
      "[LightGBM] [Info] Auto-choosing row-wise multi-threading, the overhead of testing was 0.000221 seconds.\n",
      "You can set `force_row_wise=true` to remove the overhead.\n",
      "And if memory is not enough, you can set `force_col_wise=true`.\n",
      "[LightGBM] [Info] Total Bins 497\n",
      "[LightGBM] [Info] Number of data points in the train set: 4174, number of used features: 95\n",
      "[LightGBM] [Info] Start training from score 152932.704121\n"
     ]
    },
    {
     "data": {
      "text/html": [
       "<div>\n",
       "<style scoped>\n",
       "    .dataframe tbody tr th:only-of-type {\n",
       "        vertical-align: middle;\n",
       "    }\n",
       "\n",
       "    .dataframe tbody tr th {\n",
       "        vertical-align: top;\n",
       "    }\n",
       "\n",
       "    .dataframe thead th {\n",
       "        text-align: right;\n",
       "    }\n",
       "</style>\n",
       "<table border=\"1\" class=\"dataframe\">\n",
       "  <thead>\n",
       "    <tr style=\"text-align: right;\">\n",
       "      <th></th>\n",
       "      <th>MAE</th>\n",
       "      <th>R2</th>\n",
       "      <th>training_time</th>\n",
       "    </tr>\n",
       "    <tr>\n",
       "      <th>model</th>\n",
       "      <th></th>\n",
       "      <th></th>\n",
       "      <th></th>\n",
       "    </tr>\n",
       "  </thead>\n",
       "  <tbody>\n",
       "    <tr>\n",
       "      <th>linear_regression</th>\n",
       "      <td>1.793941e+14</td>\n",
       "      <td>-2.766232e+19</td>\n",
       "      <td>0.175103</td>\n",
       "    </tr>\n",
       "    <tr>\n",
       "      <th>svm</th>\n",
       "      <td>1.375058e+05</td>\n",
       "      <td>-1.397364e-01</td>\n",
       "      <td>0.035664</td>\n",
       "    </tr>\n",
       "    <tr>\n",
       "      <th>random_forest</th>\n",
       "      <td>4.053477e+04</td>\n",
       "      <td>3.163340e-01</td>\n",
       "      <td>10.359811</td>\n",
       "    </tr>\n",
       "    <tr>\n",
       "      <th>gradient_boosted_rf</th>\n",
       "      <td>5.271757e+04</td>\n",
       "      <td>2.844169e-01</td>\n",
       "      <td>4.750468</td>\n",
       "    </tr>\n",
       "    <tr>\n",
       "      <th>xgboost</th>\n",
       "      <td>4.097155e+04</td>\n",
       "      <td>3.432632e-01</td>\n",
       "      <td>0.230021</td>\n",
       "    </tr>\n",
       "    <tr>\n",
       "      <th>lightgbm</th>\n",
       "      <td>5.300120e+04</td>\n",
       "      <td>2.797819e-01</td>\n",
       "      <td>0.133906</td>\n",
       "    </tr>\n",
       "  </tbody>\n",
       "</table>\n",
       "</div>"
      ],
      "text/plain": [
       "                              MAE            R2  training_time\n",
       "model                                                         \n",
       "linear_regression    1.793941e+14 -2.766232e+19       0.175103\n",
       "svm                  1.375058e+05 -1.397364e-01       0.035664\n",
       "random_forest        4.053477e+04  3.163340e-01      10.359811\n",
       "gradient_boosted_rf  5.271757e+04  2.844169e-01       4.750468\n",
       "xgboost              4.097155e+04  3.432632e-01       0.230021\n",
       "lightgbm             5.300120e+04  2.797819e-01       0.133906"
      ]
     },
     "execution_count": 21,
     "metadata": {},
     "output_type": "execute_result"
    }
   ],
   "source": [
    "import pandas as pd\n",
    "from sklearn.linear_model import LinearRegression\n",
    "from sklearn.ensemble import RandomForestRegressor, HistGradientBoostingRegressor\n",
    "from sklearn.svm import LinearSVR\n",
    "from sklearn.metrics import mean_absolute_error, r2_score\n",
    "import xgboost as xgb\n",
    "import lightgbm as lgb\n",
    "from datetime import datetime\n",
    "\n",
    "# Define the models\n",
    "models = {\n",
    "    'linear_regression': LinearRegression(),\n",
    "    'svm': LinearSVR(max_iter=1000),\n",
    "    'random_forest': RandomForestRegressor(),\n",
    "    'gradient_boosted_rf': HistGradientBoostingRegressor(),\n",
    "    'xgboost': xgb.XGBRegressor(),\n",
    "    'lightgbm': lgb.LGBMRegressor()\n",
    "}\n",
    "\n",
    "# Dictionary to hold the results\n",
    "results = {\n",
    "    'model': [],\n",
    "    'MAE': [],\n",
    "    'R2': [],\n",
    "    'training_time': []\n",
    "}\n",
    "\n",
    "# Iterate over the models\n",
    "for model_name, model in models.items():\n",
    "    # Create pipeline with preprocessor and model\n",
    "    pipeline = Pipeline(steps=[\n",
    "        ('preprocessor', preprocessor),\n",
    "        ('model', model)\n",
    "    ])\n",
    "    train_start = datetime.now()\n",
    "    pipeline.fit(X_train, y_train)\n",
    "    train_stop = datetime.now()\n",
    "    train_time = train_stop - train_start\n",
    "\n",
    "    y_pred = pipeline.predict(X_test)\n",
    "    \n",
    "    # Collect the results\n",
    "    results['model'].append(model_name)\n",
    "    results['MAE'].append(mean_absolute_error(y_test, y_pred))\n",
    "    results['R2'].append(r2_score(y_test, y_pred))\n",
    "    results['training_time'].append(train_time.total_seconds())  # Convert to seconds for easier readability\n",
    "\n",
    "# Convert the results to a DataFrame\n",
    "results_df = pd.DataFrame(results).set_index('model')\n",
    "\n",
    "# Display the DataFrame\n",
    "results_df\n"
   ]
  },
  {
   "cell_type": "markdown",
   "metadata": {},
   "source": [
    "Linear regression doesn't handle the data well since I chose not to remove outliers. The others seem to have done pretty well."
   ]
  },
  {
   "cell_type": "code",
   "execution_count": null,
   "metadata": {},
   "outputs": [],
   "source": []
  }
 ],
 "metadata": {
  "kernelspec": {
   "display_name": "carvalueproj",
   "language": "python",
   "name": "python3"
  },
  "language_info": {
   "codemirror_mode": {
    "name": "ipython",
    "version": 3
   },
   "file_extension": ".py",
   "mimetype": "text/x-python",
   "name": "python",
   "nbconvert_exporter": "python",
   "pygments_lexer": "ipython3",
   "version": "3.8.5"
  }
 },
 "nbformat": 4,
 "nbformat_minor": 2
}
